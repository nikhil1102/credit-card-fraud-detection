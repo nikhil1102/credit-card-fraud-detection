{
 "cells": [
  {
   "cell_type": "code",
   "execution_count": 1,
   "metadata": {
    "colab": {
     "base_uri": "https://localhost:8080/",
     "height": 89,
     "resources": {
      "http://localhost:8080/nbextensions/google.colab/files.js": {
       "data": "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",
       "headers": [
        [
         "content-type",
         "application/javascript"
        ]
       ],
       "ok": true,
       "status": 200,
       "status_text": ""
      }
     }
    },
    "id": "fkRFMtsdS4SX",
    "outputId": "bf5c2b04-a92f-4846-f19d-6a94fb63b543"
   },
   "outputs": [],
   "source": [
    "# from google.colab import files\n",
    "# files.upload()"
   ]
  },
  {
   "cell_type": "code",
   "execution_count": 2,
   "metadata": {
    "colab": {
     "base_uri": "https://localhost:8080/"
    },
    "id": "wjF4ZWL6TAVQ",
    "outputId": "80e64018-dbfb-4633-f3ba-25e6503004f9"
   },
   "outputs": [],
   "source": [
    "# !mkdir -p ~/.kaggle\n",
    "# !cp kaggle.json ~/.kaggle/\n",
    "\n",
    "# #Change the permission\n",
    "# !chmod 600 ~/.kaggle/kaggle.json\n",
    "# !kaggle datasets download -d mlg-ulb/creditcardfraud\n",
    "# from zipfile import ZipFile\n",
    "# file_name= \"creditcardfraud.zip\"\n",
    "\n",
    "# with ZipFile(file_name, 'r') as zip:\n",
    "#   zip.extractall()\n",
    "#   print('Done')"
   ]
  },
  {
   "cell_type": "code",
   "execution_count": 3,
   "metadata": {
    "colab": {
     "base_uri": "https://localhost:8080/",
     "height": 224
    },
    "id": "V2N8exkyTDin",
    "outputId": "0079b21c-eaca-4c8e-e41f-79263d1afb98"
   },
   "outputs": [
    {
     "data": {
      "text/html": [
       "<div>\n",
       "<style scoped>\n",
       "    .dataframe tbody tr th:only-of-type {\n",
       "        vertical-align: middle;\n",
       "    }\n",
       "\n",
       "    .dataframe tbody tr th {\n",
       "        vertical-align: top;\n",
       "    }\n",
       "\n",
       "    .dataframe thead th {\n",
       "        text-align: right;\n",
       "    }\n",
       "</style>\n",
       "<table border=\"1\" class=\"dataframe\">\n",
       "  <thead>\n",
       "    <tr style=\"text-align: right;\">\n",
       "      <th></th>\n",
       "      <th>Time</th>\n",
       "      <th>V1</th>\n",
       "      <th>V2</th>\n",
       "      <th>V3</th>\n",
       "      <th>V4</th>\n",
       "      <th>V5</th>\n",
       "      <th>V6</th>\n",
       "      <th>V7</th>\n",
       "      <th>V8</th>\n",
       "      <th>V9</th>\n",
       "      <th>...</th>\n",
       "      <th>V21</th>\n",
       "      <th>V22</th>\n",
       "      <th>V23</th>\n",
       "      <th>V24</th>\n",
       "      <th>V25</th>\n",
       "      <th>V26</th>\n",
       "      <th>V27</th>\n",
       "      <th>V28</th>\n",
       "      <th>Amount</th>\n",
       "      <th>Class</th>\n",
       "    </tr>\n",
       "  </thead>\n",
       "  <tbody>\n",
       "    <tr>\n",
       "      <th>0</th>\n",
       "      <td>0.0</td>\n",
       "      <td>-1.359807</td>\n",
       "      <td>-0.072781</td>\n",
       "      <td>2.536347</td>\n",
       "      <td>1.378155</td>\n",
       "      <td>-0.338321</td>\n",
       "      <td>0.462388</td>\n",
       "      <td>0.239599</td>\n",
       "      <td>0.098698</td>\n",
       "      <td>0.363787</td>\n",
       "      <td>...</td>\n",
       "      <td>-0.018307</td>\n",
       "      <td>0.277838</td>\n",
       "      <td>-0.110474</td>\n",
       "      <td>0.066928</td>\n",
       "      <td>0.128539</td>\n",
       "      <td>-0.189115</td>\n",
       "      <td>0.133558</td>\n",
       "      <td>-0.021053</td>\n",
       "      <td>149.62</td>\n",
       "      <td>0</td>\n",
       "    </tr>\n",
       "    <tr>\n",
       "      <th>1</th>\n",
       "      <td>0.0</td>\n",
       "      <td>1.191857</td>\n",
       "      <td>0.266151</td>\n",
       "      <td>0.166480</td>\n",
       "      <td>0.448154</td>\n",
       "      <td>0.060018</td>\n",
       "      <td>-0.082361</td>\n",
       "      <td>-0.078803</td>\n",
       "      <td>0.085102</td>\n",
       "      <td>-0.255425</td>\n",
       "      <td>...</td>\n",
       "      <td>-0.225775</td>\n",
       "      <td>-0.638672</td>\n",
       "      <td>0.101288</td>\n",
       "      <td>-0.339846</td>\n",
       "      <td>0.167170</td>\n",
       "      <td>0.125895</td>\n",
       "      <td>-0.008983</td>\n",
       "      <td>0.014724</td>\n",
       "      <td>2.69</td>\n",
       "      <td>0</td>\n",
       "    </tr>\n",
       "    <tr>\n",
       "      <th>2</th>\n",
       "      <td>1.0</td>\n",
       "      <td>-1.358354</td>\n",
       "      <td>-1.340163</td>\n",
       "      <td>1.773209</td>\n",
       "      <td>0.379780</td>\n",
       "      <td>-0.503198</td>\n",
       "      <td>1.800499</td>\n",
       "      <td>0.791461</td>\n",
       "      <td>0.247676</td>\n",
       "      <td>-1.514654</td>\n",
       "      <td>...</td>\n",
       "      <td>0.247998</td>\n",
       "      <td>0.771679</td>\n",
       "      <td>0.909412</td>\n",
       "      <td>-0.689281</td>\n",
       "      <td>-0.327642</td>\n",
       "      <td>-0.139097</td>\n",
       "      <td>-0.055353</td>\n",
       "      <td>-0.059752</td>\n",
       "      <td>378.66</td>\n",
       "      <td>0</td>\n",
       "    </tr>\n",
       "    <tr>\n",
       "      <th>3</th>\n",
       "      <td>1.0</td>\n",
       "      <td>-0.966272</td>\n",
       "      <td>-0.185226</td>\n",
       "      <td>1.792993</td>\n",
       "      <td>-0.863291</td>\n",
       "      <td>-0.010309</td>\n",
       "      <td>1.247203</td>\n",
       "      <td>0.237609</td>\n",
       "      <td>0.377436</td>\n",
       "      <td>-1.387024</td>\n",
       "      <td>...</td>\n",
       "      <td>-0.108300</td>\n",
       "      <td>0.005274</td>\n",
       "      <td>-0.190321</td>\n",
       "      <td>-1.175575</td>\n",
       "      <td>0.647376</td>\n",
       "      <td>-0.221929</td>\n",
       "      <td>0.062723</td>\n",
       "      <td>0.061458</td>\n",
       "      <td>123.50</td>\n",
       "      <td>0</td>\n",
       "    </tr>\n",
       "    <tr>\n",
       "      <th>4</th>\n",
       "      <td>2.0</td>\n",
       "      <td>-1.158233</td>\n",
       "      <td>0.877737</td>\n",
       "      <td>1.548718</td>\n",
       "      <td>0.403034</td>\n",
       "      <td>-0.407193</td>\n",
       "      <td>0.095921</td>\n",
       "      <td>0.592941</td>\n",
       "      <td>-0.270533</td>\n",
       "      <td>0.817739</td>\n",
       "      <td>...</td>\n",
       "      <td>-0.009431</td>\n",
       "      <td>0.798278</td>\n",
       "      <td>-0.137458</td>\n",
       "      <td>0.141267</td>\n",
       "      <td>-0.206010</td>\n",
       "      <td>0.502292</td>\n",
       "      <td>0.219422</td>\n",
       "      <td>0.215153</td>\n",
       "      <td>69.99</td>\n",
       "      <td>0</td>\n",
       "    </tr>\n",
       "  </tbody>\n",
       "</table>\n",
       "<p>5 rows × 31 columns</p>\n",
       "</div>"
      ],
      "text/plain": [
       "   Time        V1        V2        V3        V4        V5        V6        V7  \\\n",
       "0   0.0 -1.359807 -0.072781  2.536347  1.378155 -0.338321  0.462388  0.239599   \n",
       "1   0.0  1.191857  0.266151  0.166480  0.448154  0.060018 -0.082361 -0.078803   \n",
       "2   1.0 -1.358354 -1.340163  1.773209  0.379780 -0.503198  1.800499  0.791461   \n",
       "3   1.0 -0.966272 -0.185226  1.792993 -0.863291 -0.010309  1.247203  0.237609   \n",
       "4   2.0 -1.158233  0.877737  1.548718  0.403034 -0.407193  0.095921  0.592941   \n",
       "\n",
       "         V8        V9  ...       V21       V22       V23       V24       V25  \\\n",
       "0  0.098698  0.363787  ... -0.018307  0.277838 -0.110474  0.066928  0.128539   \n",
       "1  0.085102 -0.255425  ... -0.225775 -0.638672  0.101288 -0.339846  0.167170   \n",
       "2  0.247676 -1.514654  ...  0.247998  0.771679  0.909412 -0.689281 -0.327642   \n",
       "3  0.377436 -1.387024  ... -0.108300  0.005274 -0.190321 -1.175575  0.647376   \n",
       "4 -0.270533  0.817739  ... -0.009431  0.798278 -0.137458  0.141267 -0.206010   \n",
       "\n",
       "        V26       V27       V28  Amount  Class  \n",
       "0 -0.189115  0.133558 -0.021053  149.62      0  \n",
       "1  0.125895 -0.008983  0.014724    2.69      0  \n",
       "2 -0.139097 -0.055353 -0.059752  378.66      0  \n",
       "3 -0.221929  0.062723  0.061458  123.50      0  \n",
       "4  0.502292  0.219422  0.215153   69.99      0  \n",
       "\n",
       "[5 rows x 31 columns]"
      ]
     },
     "execution_count": 3,
     "metadata": {},
     "output_type": "execute_result"
    }
   ],
   "source": [
    "import pandas as pd\n",
    "import matplotlib.pyplot as plt\n",
    "import numpy as np\n",
    "%matplotlib inline\n",
    "\n",
    "df = pd.read_csv(\"creditcard.csv\")\n",
    "\n",
    "df.head()"
   ]
  },
  {
   "cell_type": "code",
   "execution_count": 4,
   "metadata": {
    "colab": {
     "base_uri": "https://localhost:8080/",
     "height": 224
    },
    "id": "dP4xaiegTf9T",
    "outputId": "0a93e016-1fc1-4c1b-df10-6789c2a74c30"
   },
   "outputs": [
    {
     "data": {
      "text/html": [
       "<div>\n",
       "<style scoped>\n",
       "    .dataframe tbody tr th:only-of-type {\n",
       "        vertical-align: middle;\n",
       "    }\n",
       "\n",
       "    .dataframe tbody tr th {\n",
       "        vertical-align: top;\n",
       "    }\n",
       "\n",
       "    .dataframe thead th {\n",
       "        text-align: right;\n",
       "    }\n",
       "</style>\n",
       "<table border=\"1\" class=\"dataframe\">\n",
       "  <thead>\n",
       "    <tr style=\"text-align: right;\">\n",
       "      <th></th>\n",
       "      <th>V1</th>\n",
       "      <th>V2</th>\n",
       "      <th>V3</th>\n",
       "      <th>V4</th>\n",
       "      <th>V5</th>\n",
       "      <th>V6</th>\n",
       "      <th>V7</th>\n",
       "      <th>V8</th>\n",
       "      <th>V9</th>\n",
       "      <th>V10</th>\n",
       "      <th>...</th>\n",
       "      <th>V22</th>\n",
       "      <th>V23</th>\n",
       "      <th>V24</th>\n",
       "      <th>V25</th>\n",
       "      <th>V26</th>\n",
       "      <th>V27</th>\n",
       "      <th>V28</th>\n",
       "      <th>Class</th>\n",
       "      <th>scaled_amount</th>\n",
       "      <th>scaled_time</th>\n",
       "    </tr>\n",
       "  </thead>\n",
       "  <tbody>\n",
       "    <tr>\n",
       "      <th>0</th>\n",
       "      <td>-1.359807</td>\n",
       "      <td>-0.072781</td>\n",
       "      <td>2.536347</td>\n",
       "      <td>1.378155</td>\n",
       "      <td>-0.338321</td>\n",
       "      <td>0.462388</td>\n",
       "      <td>0.239599</td>\n",
       "      <td>0.098698</td>\n",
       "      <td>0.363787</td>\n",
       "      <td>0.090794</td>\n",
       "      <td>...</td>\n",
       "      <td>0.277838</td>\n",
       "      <td>-0.110474</td>\n",
       "      <td>0.066928</td>\n",
       "      <td>0.128539</td>\n",
       "      <td>-0.189115</td>\n",
       "      <td>0.133558</td>\n",
       "      <td>-0.021053</td>\n",
       "      <td>0</td>\n",
       "      <td>1.783274</td>\n",
       "      <td>-0.994983</td>\n",
       "    </tr>\n",
       "    <tr>\n",
       "      <th>1</th>\n",
       "      <td>1.191857</td>\n",
       "      <td>0.266151</td>\n",
       "      <td>0.166480</td>\n",
       "      <td>0.448154</td>\n",
       "      <td>0.060018</td>\n",
       "      <td>-0.082361</td>\n",
       "      <td>-0.078803</td>\n",
       "      <td>0.085102</td>\n",
       "      <td>-0.255425</td>\n",
       "      <td>-0.166974</td>\n",
       "      <td>...</td>\n",
       "      <td>-0.638672</td>\n",
       "      <td>0.101288</td>\n",
       "      <td>-0.339846</td>\n",
       "      <td>0.167170</td>\n",
       "      <td>0.125895</td>\n",
       "      <td>-0.008983</td>\n",
       "      <td>0.014724</td>\n",
       "      <td>0</td>\n",
       "      <td>-0.269825</td>\n",
       "      <td>-0.994983</td>\n",
       "    </tr>\n",
       "    <tr>\n",
       "      <th>2</th>\n",
       "      <td>-1.358354</td>\n",
       "      <td>-1.340163</td>\n",
       "      <td>1.773209</td>\n",
       "      <td>0.379780</td>\n",
       "      <td>-0.503198</td>\n",
       "      <td>1.800499</td>\n",
       "      <td>0.791461</td>\n",
       "      <td>0.247676</td>\n",
       "      <td>-1.514654</td>\n",
       "      <td>0.207643</td>\n",
       "      <td>...</td>\n",
       "      <td>0.771679</td>\n",
       "      <td>0.909412</td>\n",
       "      <td>-0.689281</td>\n",
       "      <td>-0.327642</td>\n",
       "      <td>-0.139097</td>\n",
       "      <td>-0.055353</td>\n",
       "      <td>-0.059752</td>\n",
       "      <td>0</td>\n",
       "      <td>4.983721</td>\n",
       "      <td>-0.994972</td>\n",
       "    </tr>\n",
       "    <tr>\n",
       "      <th>3</th>\n",
       "      <td>-0.966272</td>\n",
       "      <td>-0.185226</td>\n",
       "      <td>1.792993</td>\n",
       "      <td>-0.863291</td>\n",
       "      <td>-0.010309</td>\n",
       "      <td>1.247203</td>\n",
       "      <td>0.237609</td>\n",
       "      <td>0.377436</td>\n",
       "      <td>-1.387024</td>\n",
       "      <td>-0.054952</td>\n",
       "      <td>...</td>\n",
       "      <td>0.005274</td>\n",
       "      <td>-0.190321</td>\n",
       "      <td>-1.175575</td>\n",
       "      <td>0.647376</td>\n",
       "      <td>-0.221929</td>\n",
       "      <td>0.062723</td>\n",
       "      <td>0.061458</td>\n",
       "      <td>0</td>\n",
       "      <td>1.418291</td>\n",
       "      <td>-0.994972</td>\n",
       "    </tr>\n",
       "    <tr>\n",
       "      <th>4</th>\n",
       "      <td>-1.158233</td>\n",
       "      <td>0.877737</td>\n",
       "      <td>1.548718</td>\n",
       "      <td>0.403034</td>\n",
       "      <td>-0.407193</td>\n",
       "      <td>0.095921</td>\n",
       "      <td>0.592941</td>\n",
       "      <td>-0.270533</td>\n",
       "      <td>0.817739</td>\n",
       "      <td>0.753074</td>\n",
       "      <td>...</td>\n",
       "      <td>0.798278</td>\n",
       "      <td>-0.137458</td>\n",
       "      <td>0.141267</td>\n",
       "      <td>-0.206010</td>\n",
       "      <td>0.502292</td>\n",
       "      <td>0.219422</td>\n",
       "      <td>0.215153</td>\n",
       "      <td>0</td>\n",
       "      <td>0.670579</td>\n",
       "      <td>-0.994960</td>\n",
       "    </tr>\n",
       "  </tbody>\n",
       "</table>\n",
       "<p>5 rows × 31 columns</p>\n",
       "</div>"
      ],
      "text/plain": [
       "         V1        V2        V3        V4        V5        V6        V7  \\\n",
       "0 -1.359807 -0.072781  2.536347  1.378155 -0.338321  0.462388  0.239599   \n",
       "1  1.191857  0.266151  0.166480  0.448154  0.060018 -0.082361 -0.078803   \n",
       "2 -1.358354 -1.340163  1.773209  0.379780 -0.503198  1.800499  0.791461   \n",
       "3 -0.966272 -0.185226  1.792993 -0.863291 -0.010309  1.247203  0.237609   \n",
       "4 -1.158233  0.877737  1.548718  0.403034 -0.407193  0.095921  0.592941   \n",
       "\n",
       "         V8        V9       V10  ...       V22       V23       V24       V25  \\\n",
       "0  0.098698  0.363787  0.090794  ...  0.277838 -0.110474  0.066928  0.128539   \n",
       "1  0.085102 -0.255425 -0.166974  ... -0.638672  0.101288 -0.339846  0.167170   \n",
       "2  0.247676 -1.514654  0.207643  ...  0.771679  0.909412 -0.689281 -0.327642   \n",
       "3  0.377436 -1.387024 -0.054952  ...  0.005274 -0.190321 -1.175575  0.647376   \n",
       "4 -0.270533  0.817739  0.753074  ...  0.798278 -0.137458  0.141267 -0.206010   \n",
       "\n",
       "        V26       V27       V28  Class  scaled_amount  scaled_time  \n",
       "0 -0.189115  0.133558 -0.021053      0       1.783274    -0.994983  \n",
       "1  0.125895 -0.008983  0.014724      0      -0.269825    -0.994983  \n",
       "2 -0.139097 -0.055353 -0.059752      0       4.983721    -0.994972  \n",
       "3 -0.221929  0.062723  0.061458      0       1.418291    -0.994972  \n",
       "4  0.502292  0.219422  0.215153      0       0.670579    -0.994960  \n",
       "\n",
       "[5 rows x 31 columns]"
      ]
     },
     "execution_count": 4,
     "metadata": {},
     "output_type": "execute_result"
    }
   ],
   "source": [
    "from sklearn.preprocessing import RobustScaler\n",
    "\n",
    "#RobustScaler is less prone to outliers.\n",
    "\n",
    "rob_scaler = RobustScaler()\n",
    "\n",
    "df['scaled_amount'] = rob_scaler.fit_transform(df['Amount'].values.reshape(-1,1))\n",
    "df['scaled_time'] = rob_scaler.fit_transform(df['Time'].values.reshape(-1,1))\n",
    "\n",
    "df.drop(['Time','Amount'], axis=1, inplace=True)\n",
    "\n",
    "df.head()"
   ]
  },
  {
   "cell_type": "code",
   "execution_count": 5,
   "metadata": {
    "colab": {
     "base_uri": "https://localhost:8080/",
     "height": 377
    },
    "id": "3tGNZkorT5Qo",
    "outputId": "a3abe129-c361-4ba4-adcb-92110fbc38cc"
   },
   "outputs": [
    {
     "name": "stdout",
     "output_type": "stream",
     "text": [
      "Classes Count in Credit card Fraud Dataset \n",
      " 0    284315\n",
      "1       492\n",
      "Name: Class, dtype: int64\n"
     ]
    },
    {
     "data": {
      "text/plain": [
       "Text(0, 0.5, 'Frequency')"
      ]
     },
     "execution_count": 5,
     "metadata": {},
     "output_type": "execute_result"
    },
    {
     "data": {
      "image/png": "[encoded data removed]",
      "text/plain": [
       "<Figure size 432x288 with 1 Axes>"
      ]
     },
     "metadata": {
      "needs_background": "light"
     },
     "output_type": "display_data"
    }
   ],
   "source": [
    "print(f'Classes Count in Credit card Fraud Dataset \\n', pd.value_counts(df['Class'], sort = True).sort_index())\n",
    "credit_classes = pd.value_counts(df['Class'], sort = True).sort_index()\n",
    "credit_classes.plot(kind = 'bar')\n",
    "plt.title(\"Fraud class histogram\")\n",
    "plt.xlabel(\"Class\")\n",
    "plt.ylabel(\"Frequency\")"
   ]
  },
  {
   "cell_type": "code",
   "execution_count": 6,
   "metadata": {
    "colab": {
     "base_uri": "https://localhost:8080/"
    },
    "id": "ViTUgE-imIqE",
    "outputId": "d035ddb2-d8e9-4ac7-d07d-188102d38e8e"
   },
   "outputs": [
    {
     "name": "stdout",
     "output_type": "stream",
     "text": [
      "(284807, 30)\n",
      "(284807,)\n"
     ]
    }
   ],
   "source": [
    "#Create independent and dependent features\n",
    "columns = df.columns.tolist()\n",
    "# Filter the columns \n",
    "columns = [c for c in columns if c not in ['Class']]\n",
    "# print(columns)\n",
    "#Store the variable we are predicting \n",
    "target = 'Class'\n",
    "#define X and Y dataframe\n",
    "X = df[columns]\n",
    "Y= df[target]\n",
    "\n",
    "print(X.shape)\n",
    "print(Y.shape)"
   ]
  },
  {
   "cell_type": "code",
   "execution_count": 7,
   "metadata": {
    "colab": {
     "base_uri": "https://localhost:8080/"
    },
    "id": "B0Ll3I5ekb-m",
    "outputId": "42b86c92-1fe1-4cba-80a4-20f6fb807ea6"
   },
   "outputs": [],
   "source": [
    "from imblearn.under_sampling import NearMiss\n",
    "from sklearn.model_selection import train_test_split\n",
    "nm = NearMiss()\n",
    "X_us, y_us = nm.fit_sample(X,Y)\n",
    "X_train_us, X_test_us, y_train_us, y_test_us = train_test_split(X_us, y_us, test_size=0.2)"
   ]
  },
  {
   "cell_type": "code",
   "execution_count": null,
   "metadata": {
    "id": "AbYNCwrUnbkR"
   },
   "outputs": [],
   "source": []
  },
  {
   "cell_type": "code",
   "execution_count": 8,
   "metadata": {
    "colab": {
     "base_uri": "https://localhost:8080/",
     "height": 445
    },
    "id": "YJ_No-KHlESg",
    "outputId": "79ae5b09-2ca2-4bc0-f8a8-e3066d653a73"
   },
   "outputs": [
    {
     "name": "stdout",
     "output_type": "stream",
     "text": [
      "X train shape =  (787, 30)\n",
      "y train shape =  (787,)\n",
      "Classes Count in train Dataset \n",
      " 0    388\n",
      "1    399\n",
      "Name: Class, dtype: int64\n",
      "\n",
      "\n"
     ]
    },
    {
     "data": {
      "text/plain": [
       "Text(0, 0.5, 'Frequency')"
      ]
     },
     "execution_count": 8,
     "metadata": {},
     "output_type": "execute_result"
    },
    {
     "data": {
      "image/png": "[encoded data removed]",
      "text/plain": [
       "<Figure size 432x288 with 1 Axes>"
      ]
     },
     "metadata": {
      "needs_background": "light"
     },
     "output_type": "display_data"
    }
   ],
   "source": [
    "print(f'X train shape = ',X_train_us.shape)\n",
    "print(f'y train shape = ',y_train_us.shape)\n",
    "print(f'Classes Count in train Dataset \\n', pd.value_counts(y_train_us, sort = True).sort_index())\n",
    "print('\\n')\n",
    "credit_classes = pd.value_counts(y_train_us, sort = True).sort_index()\n",
    "credit_classes.plot(kind = 'bar')\n",
    "plt.title(\"Fraud class histogram after under Sampling\")\n",
    "plt.xlabel(\"Class\")\n",
    "plt.ylabel(\"Frequency\")"
   ]
  },
  {
   "cell_type": "code",
   "execution_count": 9,
   "metadata": {
    "colab": {
     "base_uri": "https://localhost:8080/"
    },
    "id": "mrnMaTKtkieS",
    "outputId": "246565b5-d4a2-49c2-d425-32f40d6bf746"
   },
   "outputs": [],
   "source": [
    "from imblearn.over_sampling import RandomOverSampler\n",
    "from sklearn.model_selection import train_test_split\n",
    "os = RandomOverSampler(random_state=1)\n",
    "X_os, y_os= os.fit_sample(X,Y)\n",
    "X_train_os, X_test_os, y_train_os, y_test_os = train_test_split(X_os , y_os, test_size=0.2)"
   ]
  },
  {
   "cell_type": "code",
   "execution_count": 10,
   "metadata": {
    "colab": {
     "base_uri": "https://localhost:8080/",
     "height": 445
    },
    "id": "sZWaEQ_Jr8Zr",
    "outputId": "69602269-f2ef-4097-fbe9-d7d6c27f0503"
   },
   "outputs": [
    {
     "name": "stdout",
     "output_type": "stream",
     "text": [
      "X train shape =  (454904, 30)\n",
      "y train shape =  (454904,)\n",
      "Classes Count in train Dataset \n",
      " 0    227274\n",
      "1    227630\n",
      "Name: Class, dtype: int64\n",
      "\n",
      "\n"
     ]
    },
    {
     "data": {
      "text/plain": [
       "Text(0, 0.5, 'Frequency')"
      ]
     },
     "execution_count": 10,
     "metadata": {},
     "output_type": "execute_result"
    },
    {
     "data": {
      "image/png": "[encoded data removed]",
      "text/plain": [
       "<Figure size 432x288 with 1 Axes>"
      ]
     },
     "metadata": {
      "needs_background": "light"
     },
     "output_type": "display_data"
    }
   ],
   "source": [
    "print(f'X train shape = ',X_train_os.shape)\n",
    "print(f'y train shape = ',y_train_os.shape)\n",
    "print(f'Classes Count in train Dataset \\n', pd.value_counts(y_train_os, sort = True).sort_index())\n",
    "print('\\n')\n",
    "credit_classes = pd.value_counts(y_train_os, sort = True).sort_index()\n",
    "credit_classes.plot(kind = 'bar')\n",
    "plt.title(\"Fraud class histogram after Over Sampling\")\n",
    "plt.xlabel(\"Class\")\n",
    "plt.ylabel(\"Frequency\")"
   ]
  },
  {
   "cell_type": "markdown",
   "metadata": {
    "id": "mXWVMFBR3DIw"
   },
   "source": [
    "**Logistic Regression**\n",
    "\n",
    "Logistic Regression is a statistical model that in its basic form uses a logistic function to model a binary dependent variable. \n",
    "\n",
    "Hyperparameters for logistic Regression:\n",
    "\n",
    "**C**: Its control parameter that controls penality strength. Higher the value of C, the less the model is regularized\n",
    "\n",
    "**Solver**: its useful to try different solver as they are each solver performance or convergence is different from others.\n",
    "\n",
    "**Penality** : Here we can specify regularization Techniques.\n",
    "\n",
    "**Max_iter** : Maximum number of iterations taken for the solver to converge"
   ]
  },
  {
   "cell_type": "markdown",
   "metadata": {
    "id": "hrOfuKXZANPy"
   },
   "source": [
    "**Hyper Parameter Tuning:**\n",
    "\n",
    "Hyper-parameters are parameters that are not directly learn within estimators. It is advised to search the best set of hyper-parameter using the cross- validation score.\n",
    "\n",
    "There are two approch to do it:\n",
    "\n",
    "1. GridSearchCV\n",
    "2. RandomizedSearchCV \n",
    "\n",
    "*GridSearchCV* consider all the combination from parameters specified in the parameter grid. Whereas, *RandomizedSearchCV* selects few candidates from all the combination.\n",
    "\n",
    "We will be using GridSearchCV for our analysis. But you can feel free to try any of the hyper-tuning methods."
   ]
  },
  {
   "cell_type": "code",
   "execution_count": 11,
   "metadata": {
    "id": "Gk268_4NXuxs"
   },
   "outputs": [],
   "source": [
    "from sklearn.linear_model import LogisticRegression\n",
    "logmodel= LogisticRegression()\n",
    "param_grid = {\n",
    "    'penalty' : ['l1', 'l2', 'none'],\n",
    "    'C' : np.logspace(-4, 4, 20),\n",
    "    'solver' : ['lbfgs','newton-cg','liblinear'],\n",
    "    'max_iter' : [100, 1000,2500]\n",
    "}"
   ]
  },
  {
   "cell_type": "code",
   "execution_count": 12,
   "metadata": {
    "colab": {
     "base_uri": "https://localhost:8080/"
    },
    "id": "JyyM8UVHZ74T",
    "outputId": "cce74c5a-2b50-4649-92b7-65a7e433d7fd"
   },
   "outputs": [
    {
     "name": "stdout",
     "output_type": "stream",
     "text": [
      "Fitting 3 folds for each of 540 candidates, totalling 1620 fits\n"
     ]
    },
    {
     "name": "stderr",
     "output_type": "stream",
     "text": [
      "C:\\Users\\nikhi\\Anaconda3\\lib\\site-packages\\sklearn\\model_selection\\_search.py:921: UserWarning: One or more of the test scores are non-finite: [       nan        nan 0.4930098  0.88815681 0.88815681 0.92121634\n",
      " 0.94407841 0.93772676        nan        nan        nan 0.4930098\n",
      " 0.88815681 0.88815681 0.92121634 0.93772676 0.93772676        nan\n",
      "        nan        nan 0.4930098  0.88815681 0.88815681 0.92121634\n",
      " 0.93772676 0.93772676        nan        nan        nan 0.4930098\n",
      " 0.89196393 0.89196393 0.92630056 0.94407841 0.93772676        nan\n",
      "        nan        nan 0.4930098  0.89196393 0.89196393 0.92630056\n",
      " 0.93772676 0.93772676        nan        nan        nan 0.4930098\n",
      " 0.89196393 0.89196393 0.92630056 0.93772676 0.93772676        nan\n",
      "        nan        nan 0.4930098  0.89323136 0.89323136 0.92502346\n",
      " 0.94407841 0.93772676        nan        nan        nan 0.4930098\n",
      " 0.89323136 0.89323136 0.92502346 0.93772676 0.93772676        nan\n",
      "        nan        nan 0.4930098  0.89323136 0.89323136 0.92502346\n",
      " 0.93772676 0.93772676        nan        nan        nan 0.84625432\n",
      " 0.90339496 0.90339496 0.9237512  0.94407841 0.93772676        nan\n",
      "        nan        nan 0.84625432 0.90339496 0.90339496 0.9237512\n",
      " 0.93772676 0.93772676        nan        nan        nan 0.84625432\n",
      " 0.90339496 0.90339496 0.9237512  0.93772676 0.93772676        nan\n",
      "        nan        nan 0.85256727 0.91991505 0.91991505 0.92502346\n",
      " 0.94407841 0.93772676        nan        nan        nan 0.85256727\n",
      " 0.91991505 0.91991505 0.92502346 0.93772676 0.93772676        nan\n",
      "        nan        nan 0.85256727 0.91991505 0.91991505 0.92502346\n",
      " 0.93772676 0.93772676        nan        nan        nan 0.84877466\n",
      " 0.93008833 0.93008833 0.93264737 0.94407841 0.93772676        nan\n",
      "        nan        nan 0.84877466 0.93008833 0.93008833 0.93264737\n",
      " 0.93772676 0.93772676        nan        nan        nan 0.84877466\n",
      " 0.93008833 0.93008833 0.93264737 0.93772676 0.93772676        nan\n",
      "        nan        nan 0.92752929 0.93644482 0.93644482 0.94026161\n",
      " 0.94407841 0.93772676        nan        nan        nan 0.92752929\n",
      " 0.93644482 0.93644482 0.94026161 0.93772676 0.93772676        nan\n",
      "        nan        nan 0.92752929 0.93644482 0.93644482 0.94026161\n",
      " 0.93772676 0.93772676        nan        nan        nan 0.94151936\n",
      " 0.94914811 0.94914811 0.94788069 0.94407841 0.93772676        nan\n",
      "        nan        nan 0.94278679 0.94914811 0.94914811 0.94788069\n",
      " 0.93772676 0.93772676        nan        nan        nan 0.94151936\n",
      " 0.94914811 0.94914811 0.94788069 0.93772676 0.93772676        nan\n",
      "        nan        nan 0.95169264 0.95169748 0.95169748 0.95042038\n",
      " 0.94407841 0.93772676        nan        nan        nan 0.95169264\n",
      " 0.95169748 0.95169748 0.95042038 0.93772676 0.93772676        nan\n",
      "        nan        nan 0.95169264 0.95169748 0.95169748 0.95042038\n",
      " 0.93772676 0.93772676        nan        nan        nan 0.95042522\n",
      " 0.94915295 0.94915295 0.95169748 0.94407841 0.93772676        nan\n",
      "        nan        nan 0.95169748 0.94915295 0.94915295 0.95169748\n",
      " 0.93772676 0.93772676        nan        nan        nan 0.95169748\n",
      " 0.94915295 0.94915295 0.95169748 0.93772676 0.93772676        nan\n",
      "        nan        nan 0.94915779 0.95169264 0.95169264 0.95423234\n",
      " 0.94407841 0.93772676        nan        nan        nan 0.95043005\n",
      " 0.95169264 0.95169264 0.95423234 0.93772676 0.93772676        nan\n",
      "        nan        nan 0.94915779 0.95169264 0.95169264 0.95423234\n",
      " 0.93772676 0.93772676        nan        nan        nan 0.94916263\n",
      " 0.95043005 0.95043005 0.95170232 0.94407841 0.93772676        nan\n",
      "        nan        nan 0.94916263 0.95043005 0.95043005 0.95170232\n",
      " 0.93772676 0.93772676        nan        nan        nan 0.94916263\n",
      " 0.95043005 0.95043005 0.95170232 0.93772676 0.93772676        nan\n",
      "        nan        nan 0.94916263 0.95043005 0.95043005 0.95170232\n",
      " 0.94407841 0.93772676        nan        nan        nan 0.94916263\n",
      " 0.95043005 0.95043005 0.95170232 0.93772676 0.93772676        nan\n",
      "        nan        nan 0.94916263 0.95043005 0.95043005 0.95170232\n",
      " 0.93772676 0.93772676        nan        nan        nan 0.94535067\n",
      " 0.95043005 0.94916263 0.95043489 0.94407841 0.93772676        nan\n",
      "        nan        nan 0.94535067 0.94916263 0.94916263 0.95043489\n",
      " 0.93772676 0.93772676        nan        nan        nan 0.94535067\n",
      " 0.94916263 0.94916263 0.95043489 0.93772676 0.93772676        nan\n",
      "        nan        nan 0.94662294 0.94534583 0.94535067 0.94535067\n",
      " 0.94407841 0.93772676        nan        nan        nan 0.94535067\n",
      " 0.94535067 0.94535067 0.94535067 0.93772676 0.93772676        nan\n",
      "        nan        nan 0.94662294 0.94535067 0.94535067 0.94535067\n",
      " 0.93772676 0.93772676        nan        nan        nan 0.94535067\n",
      " 0.94280614 0.94662294 0.94662294 0.94407841 0.93772676        nan\n",
      "        nan        nan 0.94535067 0.94535067 0.94662294 0.94662294\n",
      " 0.93772676 0.93772676        nan        nan        nan 0.94535067\n",
      " 0.94535067 0.94662294 0.94662294 0.93772676 0.93772676        nan\n",
      "        nan        nan 0.94535067 0.94407841 0.94662294 0.9478952\n",
      " 0.94407841 0.93772676        nan        nan        nan 0.94407841\n",
      " 0.94662294 0.94662294 0.9478952  0.93772676 0.93772676        nan\n",
      "        nan        nan 0.94535067 0.94662294 0.94662294 0.9478952\n",
      " 0.93772676 0.93772676        nan        nan        nan 0.94407841\n",
      " 0.94407841 0.94407841 0.94407841 0.94407841 0.93772676        nan\n",
      "        nan        nan 0.94407841 0.94407841 0.94407841 0.94407841\n",
      " 0.93772676 0.93772676        nan        nan        nan 0.94535067\n",
      " 0.94407841 0.94407841 0.94407841 0.93772676 0.93772676        nan\n",
      "        nan        nan 0.94535067 0.94535067 0.94280614 0.94153388\n",
      " 0.94407841 0.93772676        nan        nan        nan 0.94535067\n",
      " 0.94280614 0.94280614 0.94153388 0.93772676 0.93772676        nan\n",
      "        nan        nan 0.94407841 0.94280614 0.94280614 0.94153388\n",
      " 0.93772676 0.93772676        nan        nan        nan 0.94535067\n",
      " 0.94407841 0.93899902 0.94407841 0.94407841 0.93772676        nan\n",
      "        nan        nan 0.94535067 0.93899902 0.93899902 0.94407841\n",
      " 0.93772676 0.93772676        nan        nan        nan 0.94535067\n",
      " 0.93899902 0.93899902 0.94407841 0.93772676 0.93772676        nan]\n",
      "  category=UserWarning\n"
     ]
    }
   ],
   "source": [
    "from sklearn.linear_model import LogisticRegression\n",
    "from sklearn.model_selection import GridSearchCV, RandomizedSearchCV\n",
    "logmodel= LogisticRegression()\n",
    "param_grid = {\n",
    "    'penalty' : ['l1', 'l2', 'none'],\n",
    "    'C' : np.logspace(-4, 4, 20),\n",
    "    'solver' : ['lbfgs','newton-cg','liblinear'],\n",
    "    'max_iter' : [100, 1000,2500]\n",
    "}\n",
    "logcls_us = GridSearchCV(logmodel, param_grid = param_grid, cv = 3, verbose=3, n_jobs=-1)\n",
    "bestlogcls_us = logcls_us.fit(X_train_us, y_train_us)"
   ]
  },
  {
   "cell_type": "code",
   "execution_count": 13,
   "metadata": {
    "id": "9DY8mQmrbklX"
   },
   "outputs": [
    {
     "data": {
      "text/plain": [
       "LogisticRegression(C=1.623776739188721, solver='liblinear')"
      ]
     },
     "execution_count": 13,
     "metadata": {},
     "output_type": "execute_result"
    }
   ],
   "source": [
    "bestlogcls_us.best_estimator_"
   ]
  },
  {
   "cell_type": "code",
   "execution_count": 14,
   "metadata": {
    "id": "KPN63tKWdyF0"
   },
   "outputs": [],
   "source": [
    "predict_us = bestlogcls_us.predict(X_test_us)"
   ]
  },
  {
   "cell_type": "code",
   "execution_count": 15,
   "metadata": {},
   "outputs": [],
   "source": [
    "def compute_roc(y_true, y_pred, plot=False):\n",
    "    \"\"\"\n",
    "    TODO\n",
    "    :param y_true: ground truth\n",
    "    :param y_pred: predictions\n",
    "    :param plot:\n",
    "    :return:\n",
    "    \"\"\"\n",
    "    fpr, tpr, _ = roc_curve(y_true, y_pred)\n",
    "    auc_score = auc(fpr, tpr)\n",
    "    if plot:\n",
    "        plt.figure(figsize=(7, 6))\n",
    "        plt.plot(fpr, tpr, color='blue',\n",
    "                 label='ROC (AUC = %0.4f)' % auc_score)\n",
    "        plt.legend(loc='lower right')\n",
    "        plt.title(\"ROC Curve\")\n",
    "        plt.xlabel(\"FPR\")\n",
    "        plt.ylabel(\"TPR\")\n",
    "        plt.show()\n",
    "        print(f'\\n AUC Score:', auc_score)\n",
    "\n",
    "    return "
   ]
  },
  {
   "cell_type": "code",
   "execution_count": 16,
   "metadata": {
    "id": "qYDnlmg8cIgQ"
   },
   "outputs": [
    {
     "name": "stdout",
     "output_type": "stream",
     "text": [
      "Confusion Matrix:\n",
      "  [[101   3]\n",
      " [  5  88]]\n",
      "\n",
      " Recall: 0.946236559139785\n",
      "\n",
      " Accuracy Score: 0.9593908629441624\n",
      "\n",
      " Precision Score: 0.967032967032967\n",
      "\n",
      " F1 Score: 0.9565217391304348\n"
     ]
    },
    {
     "data": {
      "image/png": "[encoded data removed]",
      "text/plain": [
       "<Figure size 504x432 with 1 Axes>"
      ]
     },
     "metadata": {
      "needs_background": "light"
     },
     "output_type": "display_data"
    },
    {
     "name": "stdout",
     "output_type": "stream",
     "text": [
      "\n",
      " AUC Score: 0.9586952026468155\n"
     ]
    }
   ],
   "source": [
    "from sklearn.metrics import confusion_matrix, accuracy_score, f1_score, precision_score, recall_score, classification_report, roc_curve, auc\n",
    "\n",
    "def model_performance(y_test, y_pred):\n",
    "  print(f'Confusion Matrix:\\n ',confusion_matrix(y_test, y_pred))\n",
    "  print(f'\\n Recall:', recall_score(y_test, y_pred))\n",
    "  print(f'\\n Accuracy Score:', accuracy_score(y_test, y_pred))\n",
    "  print(f'\\n Precision Score:', precision_score(y_test, y_pred))\n",
    "  print(f'\\n F1 Score:' ,f1_score(y_test, y_pred))\n",
    "  compute_roc(y_test, y_pred, plot=True)\n",
    "\n",
    "  return \n",
    "model_performance(y_test_us,predict_us)"
   ]
  },
  {
   "cell_type": "code",
   "execution_count": 17,
   "metadata": {
    "id": "BdTEn_DphgGq"
   },
   "outputs": [],
   "source": [
    "def compute_roc(y_true, y_pred, plot=False):\n",
    "    \"\"\"\n",
    "    TODO\n",
    "    :param y_true: ground truth\n",
    "    :param y_pred: predictions\n",
    "    :param plot:\n",
    "    :return:\n",
    "    \"\"\"\n",
    "    fpr, tpr, _ = roc_curve(y_true, y_pred)\n",
    "    auc_score = auc(fpr, tpr)\n",
    "    if plot:\n",
    "        plt.figure(figsize=(7, 6))\n",
    "        plt.plot(fpr, tpr, color='blue',\n",
    "                 label='ROC (AUC = %0.4f)' % auc_score)\n",
    "        plt.legend(loc='lower right')\n",
    "        plt.title(\"ROC Curve\")\n",
    "        plt.xlabel(\"FPR\")\n",
    "        plt.ylabel(\"TPR\")\n",
    "        plt.show()\n",
    "        print(f'\\n AUC Score:', auc_score)\n",
    "\n",
    "    return "
   ]
  },
  {
   "cell_type": "code",
   "execution_count": 18,
   "metadata": {
    "id": "Qv1Ui0jBhgJj"
   },
   "outputs": [
    {
     "name": "stdout",
     "output_type": "stream",
     "text": [
      "Fitting 3 folds for each of 360 candidates, totalling 1080 fits\n"
     ]
    },
    {
     "name": "stderr",
     "output_type": "stream",
     "text": [
      "C:\\Users\\nikhi\\Anaconda3\\lib\\site-packages\\sklearn\\model_selection\\_search.py:921: UserWarning: One or more of the test scores are non-finite: [       nan        nan 0.94013682 0.94601938 0.94602158 0.94393982\n",
      " 0.94993009 0.94993229        nan        nan        nan 0.94046436\n",
      " 0.94601938 0.94602158 0.94393982 0.94993009 0.94993229        nan\n",
      "        nan        nan 0.9420581  0.94867928 0.94867928 0.94641287\n",
      " 0.94993009 0.94993229        nan        nan        nan 0.9420647\n",
      " 0.94867928 0.94867928 0.94641287 0.94993009 0.94993229        nan\n",
      "        nan        nan 0.94407171 0.94804838 0.94804838 0.94658433\n",
      " 0.94993009 0.94993229        nan        nan        nan 0.94407611\n",
      " 0.94804838 0.94804838 0.94658433 0.94993009 0.94993229        nan\n",
      "        nan        nan 0.94723062 0.94875402 0.94875402 0.94691187\n",
      " 0.94993009 0.94993229        nan        nan        nan 0.94722403\n",
      " 0.94875402 0.94875402 0.94691187 0.94993009 0.94993229        nan\n",
      "        nan        nan 0.94749442 0.9485342  0.9485342  0.94815829\n",
      " 0.94993009 0.94993229        nan        nan        nan 0.94782635\n",
      " 0.9485342  0.9485342  0.94815829 0.94993009 0.94993229        nan\n",
      "        nan        nan 0.94841109 0.95041591 0.95041811 0.94938712\n",
      " 0.94993009 0.94993229        nan        nan        nan 0.94841989\n",
      " 0.95041591 0.95041811 0.94938712 0.94993009 0.94993229        nan\n",
      "        nan        nan 0.94999824 0.94998285 0.94998285 0.94998945\n",
      " 0.94993009 0.94993229        nan        nan        nan 0.9496663\n",
      " 0.94998285 0.94998285 0.94998945 0.94993009 0.94993229        nan\n",
      "        nan        nan 0.9503082  0.94993009 0.94993009 0.94993009\n",
      " 0.94993009 0.94993229        nan        nan        nan 0.95033238\n",
      " 0.94993009 0.94993009 0.94993009 0.94993009 0.94993229        nan\n",
      "        nan        nan 0.94997186 0.9499279  0.9499257  0.9499279\n",
      " 0.94993009 0.94993229        nan        nan        nan 0.94995208\n",
      " 0.9499279  0.9499257  0.9499279  0.94993009 0.94993229        nan\n",
      "        nan        nan 0.9499235  0.94993009 0.94993009 0.9499235\n",
      " 0.94993009 0.94993229        nan        nan        nan 0.94993009\n",
      " 0.94993009 0.94993009 0.9499235  0.94993009 0.94993229        nan\n",
      "        nan        nan 0.94994328 0.9499257  0.9499279  0.9499169\n",
      " 0.94993009 0.94993229        nan        nan        nan 0.94993229\n",
      " 0.9499257  0.9499279  0.9499169  0.94993009 0.94993229        nan\n",
      "        nan        nan 0.94993669 0.9499279  0.9499279  0.94991471\n",
      " 0.94993009 0.94993229        nan        nan        nan 0.94994109\n",
      " 0.9499279  0.9499279  0.94991471 0.94993009 0.94993229        nan\n",
      "        nan        nan 0.94993669 0.94993229 0.94993009 0.94991251\n",
      " 0.94993009 0.94993229        nan        nan        nan 0.94993449\n",
      " 0.94993229 0.94993009 0.94991251 0.94993009 0.94993229        nan\n",
      "        nan        nan 0.9499279  0.9499257  0.94993009 0.94991251\n",
      " 0.94993009 0.94993229        nan        nan        nan 0.94993889\n",
      " 0.9499257  0.94993009 0.94991251 0.94993009 0.94993229        nan\n",
      "        nan        nan 0.9499191  0.9499279  0.94993229 0.9499169\n",
      " 0.94993009 0.94993229        nan        nan        nan 0.94993449\n",
      " 0.9499279  0.94993229 0.9499169  0.94993009 0.94993229        nan\n",
      "        nan        nan 0.94993009 0.94993009 0.94993229 0.9499169\n",
      " 0.94993009 0.94993229        nan        nan        nan 0.94993669\n",
      " 0.94993009 0.94993229 0.9499169  0.94993009 0.94993229        nan\n",
      "        nan        nan 0.94993229 0.9499279  0.94993229 0.94991251\n",
      " 0.94993009 0.94993229        nan        nan        nan 0.94990152\n",
      " 0.9499279  0.94993229 0.94991251 0.94993009 0.94993229        nan\n",
      "        nan        nan 0.9499279  0.9499279  0.94993229 0.94991031\n",
      " 0.94993009 0.94993229        nan        nan        nan 0.9499235\n",
      " 0.9499279  0.94993229 0.94991031 0.94993009 0.94993229        nan\n",
      "        nan        nan 0.94993449 0.94993009 0.94993229 0.94991031\n",
      " 0.94993009 0.94993229        nan        nan        nan 0.94994109\n",
      " 0.94993009 0.94993229 0.94991031 0.94993009 0.94993229        nan\n",
      "        nan        nan 0.94991471 0.94993229 0.94993229 0.94991251\n",
      " 0.94993009 0.94993229        nan        nan        nan 0.9499235\n",
      " 0.94993229 0.94993229 0.94991251 0.94993009 0.94993229        nan]\n",
      "  category=UserWarning\n"
     ]
    },
    {
     "name": "stdout",
     "output_type": "stream",
     "text": [
      "Confusion Matrix:\n",
      "  [[55813  1228]\n",
      " [ 4436 52249]]\n",
      "\n",
      " Recall: 0.9217429655111582\n",
      "\n",
      " Accuracy Score: 0.9501960853278933\n",
      "\n",
      " Precision Score: 0.9770368569665464\n",
      "\n",
      " F1 Score: 0.9485848114594869\n"
     ]
    },
    {
     "data": {
      "image/png": "[encoded data removed]",
      "text/plain": [
       "<Figure size 504x432 with 1 Axes>"
      ]
     },
     "metadata": {
      "needs_background": "light"
     },
     "output_type": "display_data"
    },
    {
     "name": "stdout",
     "output_type": "stream",
     "text": [
      "\n",
      " AUC Score: 0.9501072955919599\n"
     ]
    }
   ],
   "source": [
    "#logistic Regression for oversampling:\n",
    "param_grid = {\n",
    "    'penalty' : ['l1', 'l2', 'none'],\n",
    "    'C' : np.logspace(-4, 4, 20),\n",
    "    'solver' : ['lbfgs','newton-cg','liblinear'],\n",
    "    'max_iter' : [100, 1000]\n",
    "}\n",
    "logcls_os = GridSearchCV(logmodel, param_grid = param_grid, cv = 3, verbose=3, n_jobs=-1)\n",
    "bestlogcls_os = logcls_os.fit(X_train_os, y_train_os)\n",
    "predict_os = bestlogcls_os.predict(X_test_os)\n",
    "model_performance(y_test_os,predict_os)"
   ]
  },
  {
   "cell_type": "code",
   "execution_count": 19,
   "metadata": {
    "id": "7HSj3O6hDhn7"
   },
   "outputs": [
    {
     "data": {
      "text/plain": [
       "LogisticRegression()"
      ]
     },
     "execution_count": 19,
     "metadata": {},
     "output_type": "execute_result"
    }
   ],
   "source": [
    "bestlogcls_os.estimator"
   ]
  },
  {
   "cell_type": "code",
   "execution_count": 20,
   "metadata": {
    "id": "0KkPKtOmk3wj"
   },
   "outputs": [
    {
     "name": "stdout",
     "output_type": "stream",
     "text": [
      "Fitting 3 folds for each of 360 candidates, totalling 1080 fits\n"
     ]
    },
    {
     "name": "stderr",
     "output_type": "stream",
     "text": [
      "C:\\Users\\nikhi\\Anaconda3\\lib\\site-packages\\sklearn\\model_selection\\_search.py:921: UserWarning: One or more of the test scores are non-finite: [       nan        nan 0.4930098  0.88815681 0.88815681 0.92121634\n",
      " 0.94407841 0.93772676        nan        nan        nan 0.4930098\n",
      " 0.88815681 0.88815681 0.92121634 0.93772676 0.93772676        nan\n",
      "        nan        nan 0.4930098  0.89196393 0.89196393 0.92630056\n",
      " 0.94407841 0.93772676        nan        nan        nan 0.4930098\n",
      " 0.89196393 0.89196393 0.92630056 0.93772676 0.93772676        nan\n",
      "        nan        nan 0.4930098  0.89323136 0.89323136 0.92502346\n",
      " 0.94407841 0.93772676        nan        nan        nan 0.4930098\n",
      " 0.89323136 0.89323136 0.92502346 0.93772676 0.93772676        nan\n",
      "        nan        nan 0.84625432 0.90339496 0.90339496 0.9237512\n",
      " 0.94407841 0.93772676        nan        nan        nan 0.84625432\n",
      " 0.90339496 0.90339496 0.9237512  0.93772676 0.93772676        nan\n",
      "        nan        nan 0.85256727 0.91991505 0.91991505 0.92502346\n",
      " 0.94407841 0.93772676        nan        nan        nan 0.85256727\n",
      " 0.91991505 0.91991505 0.92502346 0.93772676 0.93772676        nan\n",
      "        nan        nan 0.84877466 0.93008833 0.93008833 0.93264737\n",
      " 0.94407841 0.93772676        nan        nan        nan 0.84877466\n",
      " 0.93008833 0.93008833 0.93264737 0.93772676 0.93772676        nan\n",
      "        nan        nan 0.92752929 0.93644482 0.93644482 0.94026161\n",
      " 0.94407841 0.93772676        nan        nan        nan 0.92752929\n",
      " 0.93644482 0.93644482 0.94026161 0.93772676 0.93772676        nan\n",
      "        nan        nan 0.94151936 0.94914811 0.94914811 0.94788069\n",
      " 0.94407841 0.93772676        nan        nan        nan 0.94151936\n",
      " 0.94914811 0.94914811 0.94788069 0.93772676 0.93772676        nan\n",
      "        nan        nan 0.95169264 0.95169748 0.95169748 0.95042038\n",
      " 0.94407841 0.93772676        nan        nan        nan 0.95169264\n",
      " 0.95169748 0.95169748 0.95042038 0.93772676 0.93772676        nan\n",
      "        nan        nan 0.95169748 0.94915295 0.94915295 0.95169748\n",
      " 0.94407841 0.93772676        nan        nan        nan 0.95169748\n",
      " 0.94915295 0.94915295 0.95169748 0.93772676 0.93772676        nan\n",
      "        nan        nan 0.94915779 0.95169264 0.95169264 0.95423234\n",
      " 0.94407841 0.93772676        nan        nan        nan 0.94915779\n",
      " 0.95169264 0.95169264 0.95423234 0.93772676 0.93772676        nan\n",
      "        nan        nan 0.94916263 0.95043005 0.95043005 0.95170232\n",
      " 0.94407841 0.93772676        nan        nan        nan 0.94916263\n",
      " 0.95043005 0.95043005 0.95170232 0.93772676 0.93772676        nan\n",
      "        nan        nan 0.94916263 0.95043005 0.95043005 0.95170232\n",
      " 0.94407841 0.93772676        nan        nan        nan 0.94789036\n",
      " 0.95043005 0.95043005 0.95170232 0.93772676 0.93772676        nan\n",
      "        nan        nan 0.94662294 0.95043005 0.94916263 0.95043489\n",
      " 0.94407841 0.93772676        nan        nan        nan 0.94662294\n",
      " 0.94916263 0.94916263 0.95043489 0.93772676 0.93772676        nan\n",
      "        nan        nan 0.94662294 0.94534583 0.94535067 0.94535067\n",
      " 0.94407841 0.93772676        nan        nan        nan 0.94662294\n",
      " 0.94535067 0.94535067 0.94535067 0.93772676 0.93772676        nan\n",
      "        nan        nan 0.94535067 0.94280614 0.94662294 0.94662294\n",
      " 0.94407841 0.93772676        nan        nan        nan 0.94535067\n",
      " 0.94535067 0.94662294 0.94662294 0.93772676 0.93772676        nan\n",
      "        nan        nan 0.94535067 0.94407841 0.94662294 0.9478952\n",
      " 0.94407841 0.93772676        nan        nan        nan 0.94535067\n",
      " 0.94662294 0.94662294 0.9478952  0.93772676 0.93772676        nan\n",
      "        nan        nan 0.94535067 0.94407841 0.94407841 0.94407841\n",
      " 0.94407841 0.93772676        nan        nan        nan 0.94535067\n",
      " 0.94407841 0.94407841 0.94407841 0.93772676 0.93772676        nan\n",
      "        nan        nan 0.94535067 0.94535067 0.94280614 0.94153388\n",
      " 0.94407841 0.93772676        nan        nan        nan 0.94662294\n",
      " 0.94280614 0.94280614 0.94153388 0.93772676 0.93772676        nan\n",
      "        nan        nan 0.94535067 0.94407841 0.93899902 0.94407841\n",
      " 0.94407841 0.93772676        nan        nan        nan 0.94535067\n",
      " 0.93899902 0.93899902 0.94407841 0.93772676 0.93772676        nan]\n",
      "  category=UserWarning\n"
     ]
    }
   ],
   "source": [
    "logcls_us = GridSearchCV(logmodel, param_grid = param_grid, cv = 3, verbose=3, n_jobs=-1)\n",
    "bestlogcls_us = logcls_us.fit(X_train_us, y_train_us)"
   ]
  },
  {
   "cell_type": "code",
   "execution_count": 21,
   "metadata": {
    "id": "Dk9GPiQVk699"
   },
   "outputs": [],
   "source": [
    "predict_us = bestlogcls_us.predict(X_test_us)\n"
   ]
  },
  {
   "cell_type": "markdown",
   "metadata": {
    "id": "8OL_lFZsV2mN"
   },
   "source": [
    "**Support Vector Machine**\n",
    "\n",
    "It constructs a hyperplane which can be used for classification, regression or other tasks like outliers detection. \n",
    "\n",
    "A svm is asupervised learning model that uses classification algorithm for two-group classification problems. \n",
    "\n",
    "Its important to note that svm performs well with limited amount of data to analyze.\n",
    "\n",
    "Hyper Parameter for SVM:(https://www.vebuso.com/2020/03/svm-hyperparameter-tuning-using-gridsearchcv/)\n",
    "\n",
    "**C:** This is also know as penalty that can take on a range of values and has a dramatic effect on the shape of the resulting regions for each class\n",
    "\n",
    "**gamma:**  Is the parameter of a Gaussian Kernel (to handle non-linear classification)\n",
    "\n",
    "**Kernel:** This control the manner in which the input variables will be projected. The most common kernel is RGF\n"
   ]
  },
  {
   "cell_type": "code",
   "execution_count": 22,
   "metadata": {
    "id": "LMQrTW6UVyfD"
   },
   "outputs": [
    {
     "name": "stdout",
     "output_type": "stream",
     "text": [
      "Fitting 3 folds for each of 48 candidates, totalling 144 fits\n"
     ]
    },
    {
     "data": {
      "text/plain": [
       "GridSearchCV(cv=3, estimator=SVC(), n_jobs=-1,\n",
       "             param_grid={'C': [0.1, 1, 10, 100], 'gamma': [1, 0.1, 0.01, 0.001],\n",
       "                         'kernel': ['rbf', 'poly', 'sigmoid']},\n",
       "             verbose=3)"
      ]
     },
     "execution_count": 22,
     "metadata": {},
     "output_type": "execute_result"
    }
   ],
   "source": [
    "from sklearn.svm import SVC\n",
    "param_grid = {'C': [0.1,1, 10, 100], 'gamma': [1,0.1,0.01,0.001],'kernel': ['rbf', 'poly', 'sigmoid']}\n",
    "grid = GridSearchCV(SVC(),param_grid,refit=True,verbose=3, n_jobs= -1, cv= 3)\n",
    "grid.fit(X_train_us,y_train_us)"
   ]
  },
  {
   "cell_type": "code",
   "execution_count": 23,
   "metadata": {
    "id": "o7ZFBrh82rST"
   },
   "outputs": [
    {
     "data": {
      "text/plain": [
       "SVC()"
      ]
     },
     "execution_count": 23,
     "metadata": {},
     "output_type": "execute_result"
    }
   ],
   "source": [
    "grid.estimator"
   ]
  },
  {
   "cell_type": "code",
   "execution_count": 24,
   "metadata": {
    "id": "TdfeKSdp27dH"
   },
   "outputs": [
    {
     "name": "stdout",
     "output_type": "stream",
     "text": [
      "Confusion Matrix:\n",
      "  [[102   2]\n",
      " [  3  90]]\n",
      "\n",
      " Recall: 0.967741935483871\n",
      "\n",
      " Accuracy Score: 0.9746192893401016\n",
      "\n",
      " Precision Score: 0.9782608695652174\n",
      "\n",
      " F1 Score: 0.972972972972973\n"
     ]
    },
    {
     "data": {
      "image/png": "[encoded data removed]",
      "text/plain": [
       "<Figure size 504x432 with 1 Axes>"
      ]
     },
     "metadata": {
      "needs_background": "light"
     },
     "output_type": "display_data"
    },
    {
     "name": "stdout",
     "output_type": "stream",
     "text": [
      "\n",
      " AUC Score: 0.9742555831265508\n"
     ]
    }
   ],
   "source": [
    "predict_us = grid.predict(X_test_us)\n",
    "model_performance(y_test_us,predict_us)"
   ]
  },
  {
   "cell_type": "code",
   "execution_count": 25,
   "metadata": {
    "id": "NTxubRPp3K9h"
   },
   "outputs": [
    {
     "data": {
      "text/plain": [
       "SGDClassifier()"
      ]
     },
     "execution_count": 25,
     "metadata": {},
     "output_type": "execute_result"
    }
   ],
   "source": [
    "from sklearn.linear_model import SGDClassifier\n",
    "clf = SGDClassifier()\n",
    "clf.fit(X_train_os,y_train_os)"
   ]
  },
  {
   "cell_type": "code",
   "execution_count": 26,
   "metadata": {
    "id": "ihb3K-QWvMwc"
   },
   "outputs": [
    {
     "name": "stdout",
     "output_type": "stream",
     "text": [
      "Confusion Matrix:\n",
      "  [[55863  1178]\n",
      " [ 4559 52126]]\n",
      "\n",
      " Recall: 0.9195730792978742\n",
      "\n",
      " Accuracy Score: 0.9495541916536236\n",
      "\n",
      " Precision Score: 0.9779003451898545\n",
      "\n",
      " F1 Score: 0.9478402385693114\n"
     ]
    },
    {
     "data": {
      "image/png": "[encoded data removed]",
      "text/plain": [
       "<Figure size 504x432 with 1 Axes>"
      ]
     },
     "metadata": {
      "needs_background": "light"
     },
     "output_type": "display_data"
    },
    {
     "name": "stdout",
     "output_type": "stream",
     "text": [
      "\n",
      " AUC Score: 0.9494606337216217\n"
     ]
    }
   ],
   "source": [
    "predict_os = clf.predict(X_test_os)\n",
    "model_performance(y_test_os,predict_os)"
   ]
  },
  {
   "cell_type": "code",
   "execution_count": 27,
   "metadata": {
    "id": "Js8aqAzFxE4R"
   },
   "outputs": [
    {
     "name": "stdout",
     "output_type": "stream",
     "text": [
      "Fitting 3 folds for each of 26 candidates, totalling 78 fits\n",
      "[CV] END ........................criterion=gini, max_depth=2; total time=   0.0s\n",
      "[CV] END ........................criterion=gini, max_depth=2; total time=   0.0s\n",
      "[CV] END ........................criterion=gini, max_depth=2; total time=   0.0s\n",
      "[CV] END ........................criterion=gini, max_depth=3; total time=   0.0s\n",
      "[CV] END ........................criterion=gini, max_depth=3; total time=   0.0s\n",
      "[CV] END ........................criterion=gini, max_depth=3; total time=   0.0s\n",
      "[CV] END ........................criterion=gini, max_depth=4; total time=   0.0s\n",
      "[CV] END ........................criterion=gini, max_depth=4; total time=   0.0s\n",
      "[CV] END ........................criterion=gini, max_depth=4; total time=   0.0s\n",
      "[CV] END ........................criterion=gini, max_depth=5; total time=   0.0s\n",
      "[CV] END ........................criterion=gini, max_depth=5; total time=   0.0s\n",
      "[CV] END ........................criterion=gini, max_depth=5; total time=   0.0s\n",
      "[CV] END ........................criterion=gini, max_depth=6; total time=   0.0s\n",
      "[CV] END ........................criterion=gini, max_depth=6; total time=   0.0s\n",
      "[CV] END ........................criterion=gini, max_depth=6; total time=   0.0s\n",
      "[CV] END ........................criterion=gini, max_depth=7; total time=   0.0s\n",
      "[CV] END ........................criterion=gini, max_depth=7; total time=   0.0s\n",
      "[CV] END ........................criterion=gini, max_depth=7; total time=   0.0s\n",
      "[CV] END ........................criterion=gini, max_depth=8; total time=   0.0s\n",
      "[CV] END ........................criterion=gini, max_depth=8; total time=   0.0s\n",
      "[CV] END ........................criterion=gini, max_depth=8; total time=   0.0s\n",
      "[CV] END ........................criterion=gini, max_depth=9; total time=   0.0s\n",
      "[CV] END ........................criterion=gini, max_depth=9; total time=   0.0s\n",
      "[CV] END ........................criterion=gini, max_depth=9; total time=   0.0s\n",
      "[CV] END .......................criterion=gini, max_depth=10; total time=   0.0s\n",
      "[CV] END .......................criterion=gini, max_depth=10; total time=   0.0s\n",
      "[CV] END .......................criterion=gini, max_depth=10; total time=   0.0s\n",
      "[CV] END .......................criterion=gini, max_depth=11; total time=   0.0s\n",
      "[CV] END .......................criterion=gini, max_depth=11; total time=   0.0s\n",
      "[CV] END .......................criterion=gini, max_depth=11; total time=   0.0s\n",
      "[CV] END .......................criterion=gini, max_depth=12; total time=   0.0s\n",
      "[CV] END .......................criterion=gini, max_depth=12; total time=   0.0s\n",
      "[CV] END .......................criterion=gini, max_depth=12; total time=   0.0s\n",
      "[CV] END .......................criterion=gini, max_depth=13; total time=   0.0s\n",
      "[CV] END .......................criterion=gini, max_depth=13; total time=   0.0s\n",
      "[CV] END .......................criterion=gini, max_depth=13; total time=   0.0s\n",
      "[CV] END .......................criterion=gini, max_depth=14; total time=   0.0s\n",
      "[CV] END .......................criterion=gini, max_depth=14; total time=   0.0s\n",
      "[CV] END .......................criterion=gini, max_depth=14; total time=   0.0s\n",
      "[CV] END .....................criterion=entropy, max_depth=2; total time=   0.0s\n",
      "[CV] END .....................criterion=entropy, max_depth=2; total time=   0.0s\n",
      "[CV] END .....................criterion=entropy, max_depth=2; total time=   0.0s\n",
      "[CV] END .....................criterion=entropy, max_depth=3; total time=   0.0s\n",
      "[CV] END .....................criterion=entropy, max_depth=3; total time=   0.0s\n",
      "[CV] END .....................criterion=entropy, max_depth=3; total time=   0.0s\n",
      "[CV] END .....................criterion=entropy, max_depth=4; total time=   0.0s\n",
      "[CV] END .....................criterion=entropy, max_depth=4; total time=   0.0s\n",
      "[CV] END .....................criterion=entropy, max_depth=4; total time=   0.0s\n",
      "[CV] END .....................criterion=entropy, max_depth=5; total time=   0.0s\n",
      "[CV] END .....................criterion=entropy, max_depth=5; total time=   0.0s\n",
      "[CV] END .....................criterion=entropy, max_depth=5; total time=   0.0s\n",
      "[CV] END .....................criterion=entropy, max_depth=6; total time=   0.0s\n",
      "[CV] END .....................criterion=entropy, max_depth=6; total time=   0.0s\n",
      "[CV] END .....................criterion=entropy, max_depth=6; total time=   0.0s\n",
      "[CV] END .....................criterion=entropy, max_depth=7; total time=   0.0s\n",
      "[CV] END .....................criterion=entropy, max_depth=7; total time=   0.0s\n",
      "[CV] END .....................criterion=entropy, max_depth=7; total time=   0.0s\n",
      "[CV] END .....................criterion=entropy, max_depth=8; total time=   0.0s\n",
      "[CV] END .....................criterion=entropy, max_depth=8; total time=   0.0s\n",
      "[CV] END .....................criterion=entropy, max_depth=8; total time=   0.0s\n",
      "[CV] END .....................criterion=entropy, max_depth=9; total time=   0.0s\n",
      "[CV] END .....................criterion=entropy, max_depth=9; total time=   0.0s\n",
      "[CV] END .....................criterion=entropy, max_depth=9; total time=   0.0s\n",
      "[CV] END ....................criterion=entropy, max_depth=10; total time=   0.0s\n",
      "[CV] END ....................criterion=entropy, max_depth=10; total time=   0.0s\n",
      "[CV] END ....................criterion=entropy, max_depth=10; total time=   0.0s\n",
      "[CV] END ....................criterion=entropy, max_depth=11; total time=   0.0s\n",
      "[CV] END ....................criterion=entropy, max_depth=11; total time=   0.0s\n",
      "[CV] END ....................criterion=entropy, max_depth=11; total time=   0.0s\n",
      "[CV] END ....................criterion=entropy, max_depth=12; total time=   0.0s\n",
      "[CV] END ....................criterion=entropy, max_depth=12; total time=   0.0s\n",
      "[CV] END ....................criterion=entropy, max_depth=12; total time=   0.0s\n",
      "[CV] END ....................criterion=entropy, max_depth=13; total time=   0.0s\n",
      "[CV] END ....................criterion=entropy, max_depth=13; total time=   0.0s\n",
      "[CV] END ....................criterion=entropy, max_depth=13; total time=   0.0s\n",
      "[CV] END ....................criterion=entropy, max_depth=14; total time=   0.0s\n",
      "[CV] END ....................criterion=entropy, max_depth=14; total time=   0.0s\n",
      "[CV] END ....................criterion=entropy, max_depth=14; total time=   0.0s\n"
     ]
    },
    {
     "data": {
      "text/plain": [
       "{'criterion': 'entropy', 'max_depth': 13}"
      ]
     },
     "execution_count": 27,
     "metadata": {},
     "output_type": "execute_result"
    }
   ],
   "source": [
    "from sklearn.tree  import DecisionTreeClassifier \n",
    "tree_cf = DecisionTreeClassifier(max_depth=3)\n",
    "param_grid = { 'criterion':['gini','entropy'],'max_depth': np.arange(2, 15)}\n",
    "dtree_gscv = GridSearchCV(tree_cf, param_grid, cv=3,verbose= 2)\n",
    "dtree_gscv.fit(X_train_us,y_train_us)\n",
    "dtree_gscv.best_params_"
   ]
  },
  {
   "cell_type": "code",
   "execution_count": 28,
   "metadata": {
    "id": "zobL6sNMnQLM"
   },
   "outputs": [
    {
     "name": "stdout",
     "output_type": "stream",
     "text": [
      "Confusion Matrix:\n",
      "  [[97  7]\n",
      " [ 6 87]]\n",
      "\n",
      " Recall: 0.9354838709677419\n",
      "\n",
      " Accuracy Score: 0.934010152284264\n",
      "\n",
      " Precision Score: 0.925531914893617\n",
      "\n",
      " F1 Score: 0.9304812834224598\n"
     ]
    },
    {
     "data": {
      "image/png": "[encoded data removed]",
      "text/plain": [
       "<Figure size 504x432 with 1 Axes>"
      ]
     },
     "metadata": {
      "needs_background": "light"
     },
     "output_type": "display_data"
    },
    {
     "name": "stdout",
     "output_type": "stream",
     "text": [
      "\n",
      " AUC Score: 0.9340880893300249\n"
     ]
    }
   ],
   "source": [
    "predict_tree_us= dtree_gscv.predict(X_test_us)\n",
    "model_performance(y_test_us, predict_tree_us)"
   ]
  },
  {
   "cell_type": "code",
   "execution_count": 29,
   "metadata": {
    "id": "nHTsGKP9nUuJ"
   },
   "outputs": [
    {
     "name": "stdout",
     "output_type": "stream",
     "text": [
      "Fitting 3 folds for each of 36 candidates, totalling 108 fits\n",
      "[CV] END ........................criterion=gini, max_depth=2; total time=   1.6s\n",
      "[CV] END ........................criterion=gini, max_depth=2; total time=   1.6s\n",
      "[CV] END ........................criterion=gini, max_depth=2; total time=   1.7s\n",
      "[CV] END ........................criterion=gini, max_depth=3; total time=   2.5s\n",
      "[CV] END ........................criterion=gini, max_depth=3; total time=   2.8s\n",
      "[CV] END ........................criterion=gini, max_depth=3; total time=   2.6s\n",
      "[CV] END ........................criterion=gini, max_depth=4; total time=   3.2s\n",
      "[CV] END ........................criterion=gini, max_depth=4; total time=   3.2s\n",
      "[CV] END ........................criterion=gini, max_depth=4; total time=   3.3s\n",
      "[CV] END ........................criterion=gini, max_depth=5; total time=   4.6s\n",
      "[CV] END ........................criterion=gini, max_depth=5; total time=   4.3s\n",
      "[CV] END ........................criterion=gini, max_depth=5; total time=   4.1s\n",
      "[CV] END ........................criterion=gini, max_depth=6; total time=   4.9s\n",
      "[CV] END ........................criterion=gini, max_depth=6; total time=   4.7s\n",
      "[CV] END ........................criterion=gini, max_depth=6; total time=   4.7s\n",
      "[CV] END ........................criterion=gini, max_depth=7; total time=   5.5s\n",
      "[CV] END ........................criterion=gini, max_depth=7; total time=   5.5s\n",
      "[CV] END ........................criterion=gini, max_depth=7; total time=   5.5s\n",
      "[CV] END ........................criterion=gini, max_depth=8; total time=   5.7s\n",
      "[CV] END ........................criterion=gini, max_depth=8; total time=   5.7s\n",
      "[CV] END ........................criterion=gini, max_depth=8; total time=   6.2s\n",
      "[CV] END ........................criterion=gini, max_depth=9; total time=   6.2s\n",
      "[CV] END ........................criterion=gini, max_depth=9; total time=   6.3s\n",
      "[CV] END ........................criterion=gini, max_depth=9; total time=   5.9s\n",
      "[CV] END .......................criterion=gini, max_depth=10; total time=   5.7s\n",
      "[CV] END .......................criterion=gini, max_depth=10; total time=   5.9s\n",
      "[CV] END .......................criterion=gini, max_depth=10; total time=   5.9s\n",
      "[CV] END .......................criterion=gini, max_depth=11; total time=   6.3s\n",
      "[CV] END .......................criterion=gini, max_depth=11; total time=   6.0s\n",
      "[CV] END .......................criterion=gini, max_depth=11; total time=   6.2s\n",
      "[CV] END .......................criterion=gini, max_depth=12; total time=   6.3s\n",
      "[CV] END .......................criterion=gini, max_depth=12; total time=   6.1s\n",
      "[CV] END .......................criterion=gini, max_depth=12; total time=   6.2s\n",
      "[CV] END .......................criterion=gini, max_depth=13; total time=   6.3s\n",
      "[CV] END .......................criterion=gini, max_depth=13; total time=   6.1s\n",
      "[CV] END .......................criterion=gini, max_depth=13; total time=   6.3s\n",
      "[CV] END .......................criterion=gini, max_depth=14; total time=   6.5s\n",
      "[CV] END .......................criterion=gini, max_depth=14; total time=   6.2s\n",
      "[CV] END .......................criterion=gini, max_depth=14; total time=   6.3s\n",
      "[CV] END .......................criterion=gini, max_depth=15; total time=   6.5s\n",
      "[CV] END .......................criterion=gini, max_depth=15; total time=   6.5s\n",
      "[CV] END .......................criterion=gini, max_depth=15; total time=   6.4s\n",
      "[CV] END .......................criterion=gini, max_depth=16; total time=   6.8s\n",
      "[CV] END .......................criterion=gini, max_depth=16; total time=   6.7s\n",
      "[CV] END .......................criterion=gini, max_depth=16; total time=   6.9s\n",
      "[CV] END .......................criterion=gini, max_depth=17; total time=   6.7s\n",
      "[CV] END .......................criterion=gini, max_depth=17; total time=   6.6s\n",
      "[CV] END .......................criterion=gini, max_depth=17; total time=   6.5s\n",
      "[CV] END .......................criterion=gini, max_depth=18; total time=   6.5s\n",
      "[CV] END .......................criterion=gini, max_depth=18; total time=   7.7s\n",
      "[CV] END .......................criterion=gini, max_depth=18; total time=   9.8s\n",
      "[CV] END .......................criterion=gini, max_depth=19; total time=   7.3s\n",
      "[CV] END .......................criterion=gini, max_depth=19; total time=   7.3s\n",
      "[CV] END .......................criterion=gini, max_depth=19; total time=   7.1s\n",
      "[CV] END .....................criterion=entropy, max_depth=2; total time=   2.3s\n",
      "[CV] END .....................criterion=entropy, max_depth=2; total time=   2.2s\n",
      "[CV] END .....................criterion=entropy, max_depth=2; total time=   2.1s\n",
      "[CV] END .....................criterion=entropy, max_depth=3; total time=   3.2s\n",
      "[CV] END .....................criterion=entropy, max_depth=3; total time=   3.2s\n",
      "[CV] END .....................criterion=entropy, max_depth=3; total time=   3.2s\n",
      "[CV] END .....................criterion=entropy, max_depth=4; total time=   4.3s\n",
      "[CV] END .....................criterion=entropy, max_depth=4; total time=   4.2s\n",
      "[CV] END .....................criterion=entropy, max_depth=4; total time=   4.6s\n",
      "[CV] END .....................criterion=entropy, max_depth=5; total time=   5.3s\n",
      "[CV] END .....................criterion=entropy, max_depth=5; total time=   5.2s\n",
      "[CV] END .....................criterion=entropy, max_depth=5; total time=   5.2s\n",
      "[CV] END .....................criterion=entropy, max_depth=6; total time=   6.1s\n",
      "[CV] END .....................criterion=entropy, max_depth=6; total time=   6.1s\n",
      "[CV] END .....................criterion=entropy, max_depth=6; total time=   6.7s\n",
      "[CV] END .....................criterion=entropy, max_depth=7; total time=   6.8s\n",
      "[CV] END .....................criterion=entropy, max_depth=7; total time=   6.6s\n",
      "[CV] END .....................criterion=entropy, max_depth=7; total time=   7.0s\n",
      "[CV] END .....................criterion=entropy, max_depth=8; total time=   6.8s\n",
      "[CV] END .....................criterion=entropy, max_depth=8; total time=   6.8s\n",
      "[CV] END .....................criterion=entropy, max_depth=8; total time=   6.7s\n",
      "[CV] END .....................criterion=entropy, max_depth=9; total time=   7.9s\n",
      "[CV] END .....................criterion=entropy, max_depth=9; total time=   7.6s\n",
      "[CV] END .....................criterion=entropy, max_depth=9; total time=   7.2s\n",
      "[CV] END ....................criterion=entropy, max_depth=10; total time=   7.3s\n",
      "[CV] END ....................criterion=entropy, max_depth=10; total time=   7.2s\n",
      "[CV] END ....................criterion=entropy, max_depth=10; total time=   7.2s\n",
      "[CV] END ....................criterion=entropy, max_depth=11; total time=   7.3s\n",
      "[CV] END ....................criterion=entropy, max_depth=11; total time=   7.3s\n",
      "[CV] END ....................criterion=entropy, max_depth=11; total time=   7.2s\n",
      "[CV] END ....................criterion=entropy, max_depth=12; total time=   7.3s\n",
      "[CV] END ....................criterion=entropy, max_depth=12; total time=   7.3s\n",
      "[CV] END ....................criterion=entropy, max_depth=12; total time=   7.3s\n",
      "[CV] END ....................criterion=entropy, max_depth=13; total time=   7.3s\n",
      "[CV] END ....................criterion=entropy, max_depth=13; total time=   7.3s\n",
      "[CV] END ....................criterion=entropy, max_depth=13; total time=   7.2s\n",
      "[CV] END ....................criterion=entropy, max_depth=14; total time=   7.5s\n",
      "[CV] END ....................criterion=entropy, max_depth=14; total time=   7.3s\n",
      "[CV] END ....................criterion=entropy, max_depth=14; total time=   7.2s\n",
      "[CV] END ....................criterion=entropy, max_depth=15; total time=   7.3s\n",
      "[CV] END ....................criterion=entropy, max_depth=15; total time=   7.3s\n",
      "[CV] END ....................criterion=entropy, max_depth=15; total time=   7.4s\n",
      "[CV] END ....................criterion=entropy, max_depth=16; total time=   7.4s\n",
      "[CV] END ....................criterion=entropy, max_depth=16; total time=   7.5s\n",
      "[CV] END ....................criterion=entropy, max_depth=16; total time=   7.4s\n",
      "[CV] END ....................criterion=entropy, max_depth=17; total time=   7.5s\n",
      "[CV] END ....................criterion=entropy, max_depth=17; total time=   8.4s\n"
     ]
    },
    {
     "name": "stdout",
     "output_type": "stream",
     "text": [
      "[CV] END ....................criterion=entropy, max_depth=17; total time=   9.3s\n",
      "[CV] END ....................criterion=entropy, max_depth=18; total time=   7.9s\n",
      "[CV] END ....................criterion=entropy, max_depth=18; total time=   7.9s\n",
      "[CV] END ....................criterion=entropy, max_depth=18; total time=   8.0s\n",
      "[CV] END ....................criterion=entropy, max_depth=19; total time=   8.2s\n",
      "[CV] END ....................criterion=entropy, max_depth=19; total time=   8.4s\n",
      "[CV] END ....................criterion=entropy, max_depth=19; total time=   8.0s\n"
     ]
    },
    {
     "data": {
      "text/plain": [
       "{'criterion': 'entropy', 'max_depth': 19}"
      ]
     },
     "execution_count": 29,
     "metadata": {},
     "output_type": "execute_result"
    }
   ],
   "source": [
    "tree_cf_os = DecisionTreeClassifier(max_depth=3)\n",
    "param_grid = { 'criterion':['gini','entropy'],'max_depth': np.arange(2, 20)}\n",
    "dtree_gscv_os = GridSearchCV(tree_cf_os , param_grid, cv=3,verbose= 2)\n",
    "dtree_gscv_os.fit(X_train_os,y_train_os)\n",
    "dtree_gscv_os.best_params_"
   ]
  },
  {
   "cell_type": "code",
   "execution_count": 30,
   "metadata": {
    "id": "oT0zgmeFnZLe"
   },
   "outputs": [
    {
     "name": "stdout",
     "output_type": "stream",
     "text": [
      "Confusion Matrix:\n",
      "  [[56976    65]\n",
      " [    0 56685]]\n",
      "\n",
      " Recall: 1.0\n",
      "\n",
      " Accuracy Score: 0.999428450837979\n",
      "\n",
      " Precision Score: 0.9988546255506608\n",
      "\n",
      " F1 Score: 0.999426984616741\n"
     ]
    },
    {
     "data": {
      "image/png": "[encoded data removed]",
      "text/plain": [
       "<Figure size 504x432 with 1 Axes>"
      ]
     },
     "metadata": {
      "needs_background": "light"
     },
     "output_type": "display_data"
    },
    {
     "name": "stdout",
     "output_type": "stream",
     "text": [
      "\n",
      " AUC Score: 0.9994302343928051\n"
     ]
    }
   ],
   "source": [
    "predict_tree_os= dtree_gscv_os.predict(X_test_os)\n",
    "model_performance(y_test_os, predict_tree_os)"
   ]
  },
  {
   "cell_type": "code",
   "execution_count": 31,
   "metadata": {
    "id": "3FRYhaFqnb7M"
   },
   "outputs": [
    {
     "name": "stdout",
     "output_type": "stream",
     "text": [
      "Fitting 3 folds for each of 16 candidates, totalling 48 fits\n",
      "[CV] END .....................criterion=gini, n_estimators=5; total time=   0.0s\n",
      "[CV] END .....................criterion=gini, n_estimators=5; total time=   0.0s\n",
      "[CV] END .....................criterion=gini, n_estimators=5; total time=   0.0s\n",
      "[CV] END ....................criterion=gini, n_estimators=10; total time=   0.0s\n",
      "[CV] END ....................criterion=gini, n_estimators=10; total time=   0.0s\n",
      "[CV] END ....................criterion=gini, n_estimators=10; total time=   0.0s\n",
      "[CV] END ....................criterion=gini, n_estimators=25; total time=   0.0s\n",
      "[CV] END ....................criterion=gini, n_estimators=25; total time=   0.0s\n",
      "[CV] END ....................criterion=gini, n_estimators=25; total time=   0.0s\n",
      "[CV] END ....................criterion=gini, n_estimators=50; total time=   0.0s\n",
      "[CV] END ....................criterion=gini, n_estimators=50; total time=   0.0s\n",
      "[CV] END ....................criterion=gini, n_estimators=50; total time=   0.0s\n",
      "[CV] END ...................criterion=gini, n_estimators=100; total time=   0.1s\n",
      "[CV] END ...................criterion=gini, n_estimators=100; total time=   0.1s\n",
      "[CV] END ...................criterion=gini, n_estimators=100; total time=   0.1s\n",
      "[CV] END ...................criterion=gini, n_estimators=250; total time=   0.4s\n",
      "[CV] END ...................criterion=gini, n_estimators=250; total time=   0.4s\n",
      "[CV] END ...................criterion=gini, n_estimators=250; total time=   0.4s\n",
      "[CV] END ...................criterion=gini, n_estimators=500; total time=   0.9s\n",
      "[CV] END ...................criterion=gini, n_estimators=500; total time=   0.9s\n",
      "[CV] END ...................criterion=gini, n_estimators=500; total time=   0.9s\n",
      "[CV] END ..................criterion=gini, n_estimators=1000; total time=   2.3s\n",
      "[CV] END ..................criterion=gini, n_estimators=1000; total time=   1.9s\n",
      "[CV] END ..................criterion=gini, n_estimators=1000; total time=   1.9s\n",
      "[CV] END ..................criterion=entropy, n_estimators=5; total time=   0.0s\n",
      "[CV] END ..................criterion=entropy, n_estimators=5; total time=   0.0s\n",
      "[CV] END ..................criterion=entropy, n_estimators=5; total time=   0.0s\n",
      "[CV] END .................criterion=entropy, n_estimators=10; total time=   0.0s\n",
      "[CV] END .................criterion=entropy, n_estimators=10; total time=   0.0s\n",
      "[CV] END .................criterion=entropy, n_estimators=10; total time=   0.0s\n",
      "[CV] END .................criterion=entropy, n_estimators=25; total time=   0.0s\n",
      "[CV] END .................criterion=entropy, n_estimators=25; total time=   0.0s\n",
      "[CV] END .................criterion=entropy, n_estimators=25; total time=   0.0s\n",
      "[CV] END .................criterion=entropy, n_estimators=50; total time=   0.0s\n",
      "[CV] END .................criterion=entropy, n_estimators=50; total time=   0.1s\n",
      "[CV] END .................criterion=entropy, n_estimators=50; total time=   0.1s\n",
      "[CV] END ................criterion=entropy, n_estimators=100; total time=   0.2s\n",
      "[CV] END ................criterion=entropy, n_estimators=100; total time=   0.3s\n",
      "[CV] END ................criterion=entropy, n_estimators=100; total time=   0.2s\n",
      "[CV] END ................criterion=entropy, n_estimators=250; total time=   0.7s\n",
      "[CV] END ................criterion=entropy, n_estimators=250; total time=   0.5s\n",
      "[CV] END ................criterion=entropy, n_estimators=250; total time=   0.5s\n",
      "[CV] END ................criterion=entropy, n_estimators=500; total time=   2.1s\n",
      "[CV] END ................criterion=entropy, n_estimators=500; total time=   1.2s\n",
      "[CV] END ................criterion=entropy, n_estimators=500; total time=   1.0s\n",
      "[CV] END ...............criterion=entropy, n_estimators=1000; total time=   2.3s\n",
      "[CV] END ...............criterion=entropy, n_estimators=1000; total time=   2.2s\n",
      "[CV] END ...............criterion=entropy, n_estimators=1000; total time=   2.1s\n"
     ]
    },
    {
     "data": {
      "text/plain": [
       "{'criterion': 'gini', 'n_estimators': 50}"
      ]
     },
     "execution_count": 31,
     "metadata": {},
     "output_type": "execute_result"
    }
   ],
   "source": [
    "from sklearn.ensemble import RandomForestClassifier\n",
    "rf_us = RandomForestClassifier()\n",
    "\n",
    "param_grid = [{'n_estimators': [5,10, 25,50,100,250,500,1000],\n",
    "               'criterion':['gini','entropy'] \n",
    " }\n",
    "]\n",
    "rf_grid_us = GridSearchCV(rf_us, param_grid= param_grid, verbose=2, cv =3)\n",
    "best_rf_grid_us = rf_grid_us.fit(X_train_us, y_train_us)\n",
    "best_rf_grid_us.best_params_"
   ]
  },
  {
   "cell_type": "code",
   "execution_count": 32,
   "metadata": {
    "id": "AFrV7omvnkYQ"
   },
   "outputs": [
    {
     "name": "stdout",
     "output_type": "stream",
     "text": [
      "Confusion Matrix:\n",
      "  [[102   2]\n",
      " [  4  89]]\n",
      "\n",
      " Recall: 0.956989247311828\n",
      "\n",
      " Accuracy Score: 0.9695431472081218\n",
      "\n",
      " Precision Score: 0.978021978021978\n",
      "\n",
      " F1 Score: 0.967391304347826\n"
     ]
    },
    {
     "data": {
      "image/png": "[encoded data removed]",
      "text/plain": [
       "<Figure size 504x432 with 1 Axes>"
      ]
     },
     "metadata": {
      "needs_background": "light"
     },
     "output_type": "display_data"
    },
    {
     "name": "stdout",
     "output_type": "stream",
     "text": [
      "\n",
      " AUC Score: 0.9688792390405293\n"
     ]
    }
   ],
   "source": [
    "pred_us =  best_rf_grid_us.predict(X_test_us)\n",
    "model_performance(y_test_us, pred_us)"
   ]
  },
  {
   "cell_type": "code",
   "execution_count": 33,
   "metadata": {
    "id": "39f9yua7noMX"
   },
   "outputs": [
    {
     "name": "stdout",
     "output_type": "stream",
     "text": [
      "Fitting 3 folds for each of 10 candidates, totalling 30 fits\n",
      "[CV] END .....................criterion=gini, n_estimators=5; total time=   5.2s\n",
      "[CV] END .....................criterion=gini, n_estimators=5; total time=   5.3s\n",
      "[CV] END .....................criterion=gini, n_estimators=5; total time=   5.1s\n",
      "[CV] END ....................criterion=gini, n_estimators=10; total time=  10.5s\n",
      "[CV] END ....................criterion=gini, n_estimators=10; total time=  10.1s\n",
      "[CV] END ....................criterion=gini, n_estimators=10; total time=  10.9s\n",
      "[CV] END ....................criterion=gini, n_estimators=25; total time=  27.0s\n",
      "[CV] END ....................criterion=gini, n_estimators=25; total time=  26.1s\n",
      "[CV] END ....................criterion=gini, n_estimators=25; total time=  26.0s\n",
      "[CV] END ....................criterion=gini, n_estimators=50; total time=  51.7s\n",
      "[CV] END ....................criterion=gini, n_estimators=50; total time=  52.5s\n",
      "[CV] END ....................criterion=gini, n_estimators=50; total time=  52.9s\n",
      "[CV] END ...................criterion=gini, n_estimators=100; total time= 1.7min\n",
      "[CV] END ...................criterion=gini, n_estimators=100; total time= 1.8min\n",
      "[CV] END ...................criterion=gini, n_estimators=100; total time= 1.7min\n",
      "[CV] END ..................criterion=entropy, n_estimators=5; total time=   5.0s\n",
      "[CV] END ..................criterion=entropy, n_estimators=5; total time=   5.8s\n",
      "[CV] END ..................criterion=entropy, n_estimators=5; total time=   5.5s\n",
      "[CV] END .................criterion=entropy, n_estimators=10; total time=  10.9s\n",
      "[CV] END .................criterion=entropy, n_estimators=10; total time=  10.8s\n",
      "[CV] END .................criterion=entropy, n_estimators=10; total time=  10.7s\n",
      "[CV] END .................criterion=entropy, n_estimators=25; total time=  28.1s\n",
      "[CV] END .................criterion=entropy, n_estimators=25; total time=  28.4s\n",
      "[CV] END .................criterion=entropy, n_estimators=25; total time=  28.2s\n",
      "[CV] END .................criterion=entropy, n_estimators=50; total time=  57.8s\n",
      "[CV] END .................criterion=entropy, n_estimators=50; total time=  53.9s\n",
      "[CV] END .................criterion=entropy, n_estimators=50; total time=  54.1s\n",
      "[CV] END ................criterion=entropy, n_estimators=100; total time= 1.8min\n",
      "[CV] END ................criterion=entropy, n_estimators=100; total time= 1.9min\n",
      "[CV] END ................criterion=entropy, n_estimators=100; total time= 1.8min\n"
     ]
    },
    {
     "data": {
      "text/plain": [
       "{'criterion': 'gini', 'n_estimators': 5}"
      ]
     },
     "execution_count": 33,
     "metadata": {},
     "output_type": "execute_result"
    }
   ],
   "source": [
    "rf_os = RandomForestClassifier()\n",
    "param_grid = [\n",
    "{'n_estimators': [5,10, 25,50,100],'criterion':['gini','entropy'] \n",
    " }\n",
    "]\n",
    "\n",
    "rf_grid_os = GridSearchCV(rf_os, param_grid= param_grid, verbose=2, cv =3)\n",
    "best_rf_grid_os = rf_grid_os.fit(X_train_os, y_train_os)\n",
    "best_rf_grid_os.best_params_"
   ]
  },
  {
   "cell_type": "code",
   "execution_count": 34,
   "metadata": {
    "id": "60FiXWQ3nq62"
   },
   "outputs": [
    {
     "name": "stdout",
     "output_type": "stream",
     "text": [
      "Confusion Matrix:\n",
      "  [[57035     6]\n",
      " [    0 56685]]\n",
      "\n",
      " Recall: 1.0\n",
      "\n",
      " Accuracy Score: 0.9999472416158135\n",
      "\n",
      " Precision Score: 0.9998941630946712\n",
      "\n",
      " F1 Score: 0.9999470787468248\n"
     ]
    },
    {
     "data": {
      "image/png": "[encoded data removed]",
      "text/plain": [
       "<Figure size 504x432 with 1 Axes>"
      ]
     },
     "metadata": {
      "needs_background": "light"
     },
     "output_type": "display_data"
    },
    {
     "name": "stdout",
     "output_type": "stream",
     "text": [
      "\n",
      " AUC Score: 0.9999474062516436\n"
     ]
    }
   ],
   "source": [
    "pred_os =  best_rf_grid_os.predict(X_test_os)\n",
    "model_performance(y_test_os, pred_os)"
   ]
  },
  {
   "cell_type": "code",
   "execution_count": 35,
   "metadata": {
    "id": "KU-0WQcMntqW"
   },
   "outputs": [],
   "source": [
    "import tensorflow as tf\n",
    "import numpy as np\n",
    "from tensorflow import keras\n"
   ]
  },
  {
   "cell_type": "code",
   "execution_count": 36,
   "metadata": {},
   "outputs": [
    {
     "name": "stdout",
     "output_type": "stream",
     "text": [
      "Model: \"sequential\"\n",
      "_________________________________________________________________\n",
      "Layer (type)                 Output Shape              Param #   \n",
      "=================================================================\n",
      "dense (Dense)                (None, 10)                310       \n",
      "_________________________________________________________________\n",
      "dense_1 (Dense)              (None, 1)                 11        \n",
      "=================================================================\n",
      "Total params: 321\n",
      "Trainable params: 321\n",
      "Non-trainable params: 0\n",
      "_________________________________________________________________\n"
     ]
    }
   ],
   "source": [
    "model = tf.keras.Sequential([\n",
    "    keras.layers.Dense(units=10, input_shape=X_train_os.shape[1:], activation ='relu'),\n",
    "    keras.layers.Dense(1, activation= 'sigmoid')\n",
    "])\n",
    "model.summary()"
   ]
  },
  {
   "cell_type": "code",
   "execution_count": 37,
   "metadata": {
    "id": "1e8uJDipnxZZ"
   },
   "outputs": [
    {
     "name": "stdout",
     "output_type": "stream",
     "text": [
      "Epoch 1/30\n",
      "14216/14216 [==============================] - 8s 557us/step - loss: 0.1335 - accuracy: 0.9434\n",
      "Epoch 2/30\n",
      "14216/14216 [==============================] - 7s 527us/step - loss: 0.0883 - accuracy: 0.9628\n",
      "Epoch 3/30\n",
      "14216/14216 [==============================] - 7s 513us/step - loss: 0.0680 - accuracy: 0.9739\n",
      "Epoch 4/30\n",
      "14216/14216 [==============================] - 8s 552us/step - loss: 0.0561 - accuracy: 0.9798\n",
      "Epoch 5/30\n",
      "14216/14216 [==============================] - 8s 578us/step - loss: 0.0486 - accuracy: 0.98250s - loss: 0.0487 - accura\n",
      "Epoch 6/30\n",
      "14216/14216 [==============================] - 9s 614us/step - loss: 0.0428 - accuracy: 0.9861\n",
      "Epoch 7/30\n",
      "14216/14216 [==============================] - 7s 520us/step - loss: 0.0386 - accuracy: 0.9897\n",
      "Epoch 8/30\n",
      "14216/14216 [==============================] - 8s 543us/step - loss: 0.0356 - accuracy: 0.9907\n",
      "Epoch 9/30\n",
      "14216/14216 [==============================] - 8s 562us/step - loss: 0.0335 - accuracy: 0.9910\n",
      "Epoch 10/30\n",
      "14216/14216 [==============================] - 8s 574us/step - loss: 0.0317 - accuracy: 0.9915\n",
      "Epoch 11/30\n",
      "14216/14216 [==============================] - 8s 555us/step - loss: 0.0303 - accuracy: 0.9921\n",
      "Epoch 12/30\n",
      "14216/14216 [==============================] - 8s 566us/step - loss: 0.0290 - accuracy: 0.9927\n",
      "Epoch 13/30\n",
      "14216/14216 [==============================] - 7s 526us/step - loss: 0.0278 - accuracy: 0.9936\n",
      "Epoch 14/30\n",
      "14216/14216 [==============================] - 8s 530us/step - loss: 0.0268 - accuracy: 0.9942\n",
      "Epoch 15/30\n",
      "14216/14216 [==============================] - 7s 522us/step - loss: 0.0259 - accuracy: 0.9946\n",
      "Epoch 16/30\n",
      "14216/14216 [==============================] - 8s 532us/step - loss: 0.0249 - accuracy: 0.9948\n",
      "Epoch 17/30\n",
      "14216/14216 [==============================] - 8s 555us/step - loss: 0.0242 - accuracy: 0.9950\n",
      "Epoch 18/30\n",
      "14216/14216 [==============================] - 8s 531us/step - loss: 0.0235 - accuracy: 0.9950\n",
      "Epoch 19/30\n",
      "14216/14216 [==============================] - 8s 534us/step - loss: 0.0228 - accuracy: 0.9952\n",
      "Epoch 20/30\n",
      "14216/14216 [==============================] - 8s 538us/step - loss: 0.0223 - accuracy: 0.9953\n",
      "Epoch 21/30\n",
      "14216/14216 [==============================] - 8s 534us/step - loss: 0.0218 - accuracy: 0.9954\n",
      "Epoch 22/30\n",
      "14216/14216 [==============================] - 8s 532us/step - loss: 0.0213 - accuracy: 0.9955\n",
      "Epoch 23/30\n",
      "14216/14216 [==============================] - 9s 668us/step - loss: 0.0209 - accuracy: 0.9957\n",
      "Epoch 24/30\n",
      "14216/14216 [==============================] - 8s 575us/step - loss: 0.0205 - accuracy: 0.9957\n",
      "Epoch 25/30\n",
      "14216/14216 [==============================] - 7s 518us/step - loss: 0.0202 - accuracy: 0.9958\n",
      "Epoch 26/30\n",
      "14216/14216 [==============================] - 7s 525us/step - loss: 0.0198 - accuracy: 0.9959\n",
      "Epoch 27/30\n",
      "14216/14216 [==============================] - 8s 560us/step - loss: 0.0196 - accuracy: 0.9960\n",
      "Epoch 28/30\n",
      "14216/14216 [==============================] - 8s 554us/step - loss: 0.0193 - accuracy: 0.9961\n",
      "Epoch 29/30\n",
      "14216/14216 [==============================] - 8s 567us/step - loss: 0.0191 - accuracy: 0.9961\n",
      "Epoch 30/30\n",
      "14216/14216 [==============================] - 9s 617us/step - loss: 0.0188 - accuracy: 0.99610s - loss: 0.0187 - ac\n"
     ]
    },
    {
     "data": {
      "text/plain": [
       "<tensorflow.python.keras.callbacks.History at 0x1fe720e3e08>"
      ]
     },
     "execution_count": 37,
     "metadata": {},
     "output_type": "execute_result"
    }
   ],
   "source": [
    "model.compile(loss='binary_crossentropy',\n",
    "          optimizer='sgd',\n",
    "          metrics=['accuracy'])\n",
    "model.fit(X_train_os, y_train_os, epochs= 30)"
   ]
  },
  {
   "cell_type": "code",
   "execution_count": 38,
   "metadata": {
    "id": "LUe-5LjWn6je"
   },
   "outputs": [
    {
     "name": "stdout",
     "output_type": "stream",
     "text": [
      "Confusion Matrix:\n",
      "  [[56570   471]\n",
      " [    0 56685]]\n",
      "\n",
      " Recall: 1.0\n",
      "\n",
      " Accuracy Score: 0.9958584668413556\n",
      "\n",
      " Precision Score: 0.991759395339072\n",
      "\n",
      " F1 Score: 0.9958626505389095\n"
     ]
    },
    {
     "data": {
      "image/png": "[encoded data removed]",
      "text/plain": [
       "<Figure size 504x432 with 1 Axes>"
      ]
     },
     "metadata": {
      "needs_background": "light"
     },
     "output_type": "display_data"
    },
    {
     "name": "stdout",
     "output_type": "stream",
     "text": [
      "\n",
      " AUC Score: 0.995871390754019\n"
     ]
    }
   ],
   "source": [
    "pred_os = model.predict(X_test_os)\n",
    "y_pred_bool = np.round(pred_os)\n",
    "pred_os = y_pred_bool.tolist()\n",
    "model_performance(y_test_os, pred_os)"
   ]
  },
  {
   "cell_type": "code",
   "execution_count": null,
   "metadata": {},
   "outputs": [],
   "source": []
  }
 ],
 "metadata": {
  "colab": {
   "collapsed_sections": [],
   "name": "Logmodel",
   "provenance": []
  },
  "kernelspec": {
   "display_name": "Python 3",
   "language": "python",
   "name": "python3"
  },
  "language_info": {
   "codemirror_mode": {
    "name": "ipython",
    "version": 3
   },
   "file_extension": ".py",
   "mimetype": "text/x-python",
   "name": "python",
   "nbconvert_exporter": "python",
   "pygments_lexer": "ipython3",
   "version": "3.7.4"
  }
 },
 "nbformat": 4,
 "nbformat_minor": 1
}
